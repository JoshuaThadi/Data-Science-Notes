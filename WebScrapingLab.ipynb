{
  "nbformat": 4,
  "nbformat_minor": 0,
  "metadata": {
    "colab": {
      "provenance": [],
      "authorship_tag": "ABX9TyOy2cJdSd7CvDibGuDTbh/d",
      "include_colab_link": true
    },
    "kernelspec": {
      "name": "python3",
      "display_name": "Python 3"
    },
    "language_info": {
      "name": "python"
    }
  },
  "cells": [
    {
      "cell_type": "markdown",
      "metadata": {
        "id": "view-in-github",
        "colab_type": "text"
      },
      "source": [
        "<a href=\"https://colab.research.google.com/github/JoshuaThadi/Data-Science-Notes/blob/main/WebScrapingLab.ipynb\" target=\"_parent\"><img src=\"https://colab.research.google.com/assets/colab-badge.svg\" alt=\"Open In Colab\"/></a>"
      ]
    },
    {
      "cell_type": "markdown",
      "source": [
        "# Web Scraping Lab"
      ],
      "metadata": {
        "id": "kuFO5iZLIHug"
      }
    },
    {
      "cell_type": "markdown",
      "source": [
        "## Beautiful Soap Assigment"
      ],
      "metadata": {
        "id": "4oxcSLMOPj0t"
      }
    },
    {
      "cell_type": "code",
      "execution_count": 4,
      "metadata": {
        "colab": {
          "base_uri": "https://localhost:8080/"
        },
        "id": "Dvdc0GdMHwut",
        "outputId": "af3208eb-9247-4843-b268-e4df53009137"
      },
      "outputs": [
        {
          "output_type": "stream",
          "name": "stdout",
          "text": [
            "Requirement already satisfied: html5lib in /usr/local/lib/python3.10/dist-packages (1.1)\n",
            "Requirement already satisfied: six>=1.9 in /usr/local/lib/python3.10/dist-packages (from html5lib) (1.16.0)\n",
            "Requirement already satisfied: webencodings in /usr/local/lib/python3.10/dist-packages (from html5lib) (0.5.1)\n",
            "\u001b[31mERROR: Operation cancelled by user\u001b[0m\u001b[31m\n",
            "\u001b[0m"
          ]
        }
      ],
      "source": [
        "! pip install html5lib"
      ]
    },
    {
      "cell_type": "code",
      "source": [
        "# !pip install request\n",
        "! pip install bs4"
      ],
      "metadata": {
        "colab": {
          "base_uri": "https://localhost:8080/"
        },
        "id": "e7Co_D-hIWpX",
        "outputId": "39e117d3-b565-4091-8d3e-667c379415a4"
      },
      "execution_count": 5,
      "outputs": [
        {
          "output_type": "stream",
          "name": "stdout",
          "text": [
            "Collecting bs4\n",
            "  Downloading bs4-0.0.2-py2.py3-none-any.whl.metadata (411 bytes)\n",
            "Requirement already satisfied: beautifulsoup4 in /usr/local/lib/python3.10/dist-packages (from bs4) (4.12.3)\n",
            "Requirement already satisfied: soupsieve>1.2 in /usr/local/lib/python3.10/dist-packages (from beautifulsoup4->bs4) (2.6)\n",
            "Downloading bs4-0.0.2-py2.py3-none-any.whl (1.2 kB)\n",
            "Installing collected packages: bs4\n",
            "Successfully installed bs4-0.0.2\n"
          ]
        }
      ]
    },
    {
      "cell_type": "code",
      "source": [
        "from bs4 import BeautifulSoup # this module helps in web scraping\n",
        "import requests # this module helps us to download a web page"
      ],
      "metadata": {
        "id": "E3MPm9xHItP4"
      },
      "execution_count": 6,
      "outputs": []
    },
    {
      "cell_type": "markdown",
      "source": [],
      "metadata": {
        "id": "U3HjaIs-PA4H"
      }
    },
    {
      "cell_type": "code",
      "source": [
        "%%html\n",
        "<!DOCTYPE html>\n",
        "<html>\n",
        "<head>\n",
        "<title>Page Title</title>\n",
        "</head>\n",
        "<body>\n",
        "<h3><b id='boldest'>Lebron James</b></h3>\n",
        "<p> Salary: $ 92,000,000 </p>\n",
        "<h3> Stephen Curry</h3>\n",
        "<p> Salary: $85,000, 000 </p>\n",
        "<h3> Kevin Durant </h3>\n",
        "<p> Salary: $73,200, 000</p>\n",
        "</body>\n",
        "</html>"
      ],
      "metadata": {
        "colab": {
          "base_uri": "https://localhost:8080/",
          "height": 203
        },
        "id": "BaZaPVZ4O_A0",
        "outputId": "086e637b-af94-4eb7-a4c5-690e0eace4db"
      },
      "execution_count": 7,
      "outputs": [
        {
          "output_type": "display_data",
          "data": {
            "text/plain": [
              "<IPython.core.display.HTML object>"
            ],
            "text/html": [
              "<!DOCTYPE html>\n",
              "<html>\n",
              "<head>\n",
              "<title>Page Title</title>\n",
              "</head>\n",
              "<body>\n",
              "<h3><b id='boldest'>Lebron James</b></h3>\n",
              "<p> Salary: $ 92,000,000 </p>\n",
              "<h3> Stephen Curry</h3>\n",
              "<p> Salary: $85,000, 000 </p>\n",
              "<h3> Kevin Durant </h3>\n",
              "<p> Salary: $73,200, 000</p>\n",
              "</body>\n",
              "</html>\n"
            ]
          },
          "metadata": {}
        }
      ]
    },
    {
      "cell_type": "markdown",
      "source": [
        "#### We can store it as a string in the variable HTML\n"
      ],
      "metadata": {
        "id": "spjbJFzZQNwj"
      }
    },
    {
      "cell_type": "code",
      "source": [
        "html = \"<!DOCTYPE html><html><head><title>Page Title</title></head><body><h3> \\\n",
        "<b id='boldest'>Lebron James</b></h3><p> Salary: $ 92,000,000 </p> \\\n",
        "<h3>Stephen Curry</h3><p> Salary: $85,000,000</p> \\\n",
        "<h3>Kevin Durant</h3><p> Salary: $73,200,000</p></body></html>\""
      ],
      "metadata": {
        "id": "AZOyuT1JQQsg"
      },
      "execution_count": 8,
      "outputs": []
    },
    {
      "cell_type": "markdown",
      "source": [
        "To parse a document, pass it into the <code>BeautifulSoup</code> constructor. The <code>BeautifulSoup</code> object represents the document as a nested data structure."
      ],
      "metadata": {
        "id": "KGNEy4-HQsNs"
      }
    },
    {
      "cell_type": "code",
      "source": [
        "soup = BeautifulSoup(html, 'html5lib')"
      ],
      "metadata": {
        "id": "2VM1R-AFQuC4"
      },
      "execution_count": 9,
      "outputs": []
    },
    {
      "cell_type": "code",
      "source": [
        "# to display html in a nested structure\n",
        "print(soup.prettify())"
      ],
      "metadata": {
        "colab": {
          "base_uri": "https://localhost:8080/"
        },
        "id": "WcRPjI8XQKhO",
        "outputId": "d5fbc8e8-8e84-4d5c-8fb7-fcba44fef6f2"
      },
      "execution_count": 10,
      "outputs": [
        {
          "output_type": "stream",
          "name": "stdout",
          "text": [
            "<!DOCTYPE html>\n",
            "<html>\n",
            " <head>\n",
            "  <title>\n",
            "   Page Title\n",
            "  </title>\n",
            " </head>\n",
            " <body>\n",
            "  <h3>\n",
            "   <b id=\"boldest\">\n",
            "    Lebron James\n",
            "   </b>\n",
            "  </h3>\n",
            "  <p>\n",
            "   Salary: $ 92,000,000\n",
            "  </p>\n",
            "  <h3>\n",
            "   Stephen Curry\n",
            "  </h3>\n",
            "  <p>\n",
            "   Salary: $85,000,000\n",
            "  </p>\n",
            "  <h3>\n",
            "   Kevin Durant\n",
            "  </h3>\n",
            "  <p>\n",
            "   Salary: $73,200,000\n",
            "  </p>\n",
            " </body>\n",
            "</html>\n",
            "\n"
          ]
        }
      ]
    },
    {
      "cell_type": "markdown",
      "source": [
        "# Tags"
      ],
      "metadata": {
        "id": "0wFnuaHaS3OR"
      }
    },
    {
      "cell_type": "code",
      "source": [
        "tag_object = soup.title\n",
        "print(\"Tag object : \", tag_object)"
      ],
      "metadata": {
        "colab": {
          "base_uri": "https://localhost:8080/"
        },
        "id": "UNgcRkduQGHg",
        "outputId": "c1f303b0-d855-4068-e84b-c3b9cce18a10"
      },
      "execution_count": 11,
      "outputs": [
        {
          "output_type": "stream",
          "name": "stdout",
          "text": [
            "Tag object :  <title>Page Title</title>\n"
          ]
        }
      ]
    },
    {
      "cell_type": "code",
      "source": [
        "print(\"Tag object type : \", type(tag_object))"
      ],
      "metadata": {
        "colab": {
          "base_uri": "https://localhost:8080/"
        },
        "id": "tjzOwYP5XHCF",
        "outputId": "33ebf8bc-4cfa-4744-e621-d1d75911c461"
      },
      "execution_count": 12,
      "outputs": [
        {
          "output_type": "stream",
          "name": "stdout",
          "text": [
            "Tag object type :  <class 'bs4.element.Tag'>\n"
          ]
        }
      ]
    },
    {
      "cell_type": "code",
      "source": [
        "tag_object = soup.h3\n",
        "tag_object"
      ],
      "metadata": {
        "colab": {
          "base_uri": "https://localhost:8080/"
        },
        "id": "fsGOBicYXST5",
        "outputId": "44f950f1-a9c4-4b04-accf-2a3211bcf3d2"
      },
      "execution_count": 13,
      "outputs": [
        {
          "output_type": "execute_result",
          "data": {
            "text/plain": [
              "<h3> <b id=\"boldest\">Lebron James</b></h3>"
            ]
          },
          "metadata": {},
          "execution_count": 13
        }
      ]
    },
    {
      "cell_type": "markdown",
      "source": [
        "### Children, Parents, and Siblings\n"
      ],
      "metadata": {
        "id": "7RyF9Y_fZD6_"
      }
    },
    {
      "cell_type": "code",
      "source": [
        "tag_child = tag_object.b\n",
        "tag_child"
      ],
      "metadata": {
        "colab": {
          "base_uri": "https://localhost:8080/"
        },
        "id": "TEVF5rBUY5tZ",
        "outputId": "2866aae9-217a-42da-c457-d5469593f267"
      },
      "execution_count": 14,
      "outputs": [
        {
          "output_type": "execute_result",
          "data": {
            "text/plain": [
              "<b id=\"boldest\">Lebron James</b>"
            ]
          },
          "metadata": {},
          "execution_count": 14
        }
      ]
    },
    {
      "cell_type": "code",
      "source": [
        "parent_tag = tag_child.parent\n",
        "parent_tag"
      ],
      "metadata": {
        "colab": {
          "base_uri": "https://localhost:8080/"
        },
        "id": "8_3AEJCfcA6G",
        "outputId": "7bbbac17-af8c-4c79-b97f-664dabe9d025"
      },
      "execution_count": 15,
      "outputs": [
        {
          "output_type": "execute_result",
          "data": {
            "text/plain": [
              "<h3> <b id=\"boldest\">Lebron James</b></h3>"
            ]
          },
          "metadata": {},
          "execution_count": 15
        }
      ]
    },
    {
      "cell_type": "code",
      "source": [
        "tag_object"
      ],
      "metadata": {
        "colab": {
          "base_uri": "https://localhost:8080/"
        },
        "id": "HxqihY_gb1oO",
        "outputId": "d5a72f7c-2a9d-4953-b8f1-8266b5abbdc1"
      },
      "execution_count": 16,
      "outputs": [
        {
          "output_type": "execute_result",
          "data": {
            "text/plain": [
              "<h3> <b id=\"boldest\">Lebron James</b></h3>"
            ]
          },
          "metadata": {},
          "execution_count": 16
        }
      ]
    },
    {
      "cell_type": "code",
      "source": [
        "# tag_object parent is the body element.\n",
        "print(tag_object.parent)"
      ],
      "metadata": {
        "colab": {
          "base_uri": "https://localhost:8080/"
        },
        "id": "6CmJRyFdb-pn",
        "outputId": "ec0d97e7-158d-428a-eb60-eab4639c6307"
      },
      "execution_count": 17,
      "outputs": [
        {
          "output_type": "stream",
          "name": "stdout",
          "text": [
            "<body><h3> <b id=\"boldest\">Lebron James</b></h3><p> Salary: $ 92,000,000 </p> <h3>Stephen Curry</h3><p> Salary: $85,000,000</p> <h3>Kevin Durant</h3><p> Salary: $73,200,000</p></body>\n"
          ]
        }
      ]
    },
    {
      "cell_type": "code",
      "source": [
        "# sibling is the paragraph elements\n",
        "sibling_1 = tag_object.next_sibling\n",
        "print(sibling_1)"
      ],
      "metadata": {
        "colab": {
          "base_uri": "https://localhost:8080/"
        },
        "id": "414E-iBPc0WP",
        "outputId": "bedddef9-bf8b-4acb-d610-1500edf1c9ef"
      },
      "execution_count": 18,
      "outputs": [
        {
          "output_type": "stream",
          "name": "stdout",
          "text": [
            "<p> Salary: $ 92,000,000 </p>\n"
          ]
        }
      ]
    },
    {
      "cell_type": "code",
      "source": [
        "sibling_2 = sibling_1.next_sibling\n",
        "print(sibling_2)"
      ],
      "metadata": {
        "colab": {
          "base_uri": "https://localhost:8080/"
        },
        "id": "ohWek0ZxdZkB",
        "outputId": "0206edff-fef5-4a40-95da-e290cfba030d"
      },
      "execution_count": 19,
      "outputs": [
        {
          "output_type": "stream",
          "name": "stdout",
          "text": [
            " \n"
          ]
        }
      ]
    },
    {
      "cell_type": "code",
      "source": [
        "sibling_3 = sibling_2.next_sibling\n",
        "print(sibling_3)\n",
        "sibling_3 = tag_object.next_sibling\n",
        "print(sibling_3)"
      ],
      "metadata": {
        "colab": {
          "base_uri": "https://localhost:8080/"
        },
        "id": "MfffFd73eqAM",
        "outputId": "ce7776c7-cb2b-4065-ead9-6b5a8537b814"
      },
      "execution_count": 20,
      "outputs": [
        {
          "output_type": "stream",
          "name": "stdout",
          "text": [
            "<h3>Stephen Curry</h3>\n",
            "<p> Salary: $ 92,000,000 </p>\n"
          ]
        }
      ]
    },
    {
      "cell_type": "markdown",
      "source": [
        "## Html Attributes"
      ],
      "metadata": {
        "id": "RP0U8speivvq"
      }
    },
    {
      "cell_type": "code",
      "source": [
        "tag_child['id']"
      ],
      "metadata": {
        "colab": {
          "base_uri": "https://localhost:8080/",
          "height": 35
        },
        "id": "QuhWsjZFie_f",
        "outputId": "48f9a88f-b00e-47a1-eb88-5e98e9e4008d"
      },
      "execution_count": 21,
      "outputs": [
        {
          "output_type": "execute_result",
          "data": {
            "text/plain": [
              "'boldest'"
            ],
            "application/vnd.google.colaboratory.intrinsic+json": {
              "type": "string"
            }
          },
          "metadata": {},
          "execution_count": 21
        }
      ]
    },
    {
      "cell_type": "code",
      "source": [
        "tag_child.attrs"
      ],
      "metadata": {
        "colab": {
          "base_uri": "https://localhost:8080/"
        },
        "id": "MmVQ_LaVjOSD",
        "outputId": "716c45fe-65bc-45b5-a8de-f9e990749b12"
      },
      "execution_count": 22,
      "outputs": [
        {
          "output_type": "execute_result",
          "data": {
            "text/plain": [
              "{'id': 'boldest'}"
            ]
          },
          "metadata": {},
          "execution_count": 22
        }
      ]
    },
    {
      "cell_type": "code",
      "source": [
        "tag_child.get('id')"
      ],
      "metadata": {
        "colab": {
          "base_uri": "https://localhost:8080/",
          "height": 35
        },
        "id": "mP_AwF5vjTQO",
        "outputId": "21132f2e-27b2-4842-e699-20cc054b424f"
      },
      "execution_count": 23,
      "outputs": [
        {
          "output_type": "execute_result",
          "data": {
            "text/plain": [
              "'boldest'"
            ],
            "application/vnd.google.colaboratory.intrinsic+json": {
              "type": "string"
            }
          },
          "metadata": {},
          "execution_count": 23
        }
      ]
    },
    {
      "cell_type": "markdown",
      "source": [
        "## Navigating String"
      ],
      "metadata": {
        "id": "rkMLRH72k8g4"
      }
    },
    {
      "cell_type": "code",
      "source": [
        "tag_string = tag_child.string\n",
        "tag_string"
      ],
      "metadata": {
        "colab": {
          "base_uri": "https://localhost:8080/",
          "height": 35
        },
        "id": "0M-10Vj6k2VS",
        "outputId": "501365d3-0164-446f-e8df-f17fb1c12a2e"
      },
      "execution_count": 24,
      "outputs": [
        {
          "output_type": "execute_result",
          "data": {
            "text/plain": [
              "'Lebron James'"
            ],
            "application/vnd.google.colaboratory.intrinsic+json": {
              "type": "string"
            }
          },
          "metadata": {},
          "execution_count": 24
        }
      ]
    },
    {
      "cell_type": "code",
      "source": [
        "type(tag_string)"
      ],
      "metadata": {
        "colab": {
          "base_uri": "https://localhost:8080/"
        },
        "id": "RZ9Hm9FjlykD",
        "outputId": "e718c14f-9f5b-4ecc-8177-e66e80ca62c9"
      },
      "execution_count": 25,
      "outputs": [
        {
          "output_type": "execute_result",
          "data": {
            "text/plain": [
              "bs4.element.NavigableString"
            ]
          },
          "metadata": {},
          "execution_count": 25
        }
      ]
    },
    {
      "cell_type": "code",
      "source": [
        "# A NavigableString is similar to a Python string or Unicode string.\n",
        "unicode_string = str(tag_string)\n",
        "unicode_string"
      ],
      "metadata": {
        "colab": {
          "base_uri": "https://localhost:8080/",
          "height": 35
        },
        "id": "DCHBqKvql-AQ",
        "outputId": "36bdf2d6-ec2c-4f9d-e529-30b0f07b5117"
      },
      "execution_count": 26,
      "outputs": [
        {
          "output_type": "execute_result",
          "data": {
            "text/plain": [
              "'Lebron James'"
            ],
            "application/vnd.google.colaboratory.intrinsic+json": {
              "type": "string"
            }
          },
          "metadata": {},
          "execution_count": 26
        }
      ]
    },
    {
      "cell_type": "markdown",
      "source": [
        "## Filter"
      ],
      "metadata": {
        "id": "fFwkltFEnfLi"
      }
    },
    {
      "cell_type": "code",
      "source": [
        "%%html\n",
        "<table>\n",
        "  <tr>\n",
        "    <td id='flight' >Flight No</td>\n",
        "    <td>Launch site</td>\n",
        "    <td>Payload mass</td>\n",
        "   </tr>\n",
        "  <tr>\n",
        "    <td>1</td>\n",
        "    <td><a href='https://en.wikipedia.org/wiki/Florida'>Florida</a></td>\n",
        "    <td>300 kg</td>\n",
        "  </tr>\n",
        "  <tr>\n",
        "    <td>2</td>\n",
        "    <td><a href='https://en.wikipedia.org/wiki/Texas'>Texas</a></td>\n",
        "    <td>94 kg</td>\n",
        "  </tr>\n",
        "  <tr>\n",
        "    <td>3</td>\n",
        "    <td><a href='https://en.wikipedia.org/wiki/Florida'>Florida<a> </td>\n",
        "    <td>80 kg</td>\n",
        "  </tr>\n",
        "</table>"
      ],
      "metadata": {
        "colab": {
          "base_uri": "https://localhost:8080/",
          "height": 102
        },
        "id": "a6hYKQwinH5H",
        "outputId": "052d9acd-8823-4df8-88cf-1a0e71e85250"
      },
      "execution_count": 27,
      "outputs": [
        {
          "output_type": "display_data",
          "data": {
            "text/plain": [
              "<IPython.core.display.HTML object>"
            ],
            "text/html": [
              "<table>\n",
              "  <tr>\n",
              "    <td id='flight' >Flight No</td>\n",
              "    <td>Launch site</td>\n",
              "    <td>Payload mass</td>\n",
              "   </tr>\n",
              "  <tr>\n",
              "    <td>1</td>\n",
              "    <td><a href='https://en.wikipedia.org/wiki/Florida'>Florida</a></td>\n",
              "    <td>300 kg</td>\n",
              "  </tr>\n",
              "  <tr>\n",
              "    <td>2</td>\n",
              "    <td><a href='https://en.wikipedia.org/wiki/Texas'>Texas</a></td>\n",
              "    <td>94 kg</td>\n",
              "  </tr>\n",
              "  <tr>\n",
              "    <td>3</td>\n",
              "    <td><a href='https://en.wikipedia.org/wiki/Florida'>Florida<a> </td>\n",
              "    <td>80 kg</td>\n",
              "  </tr>\n",
              "</table>\n"
            ]
          },
          "metadata": {}
        }
      ]
    },
    {
      "cell_type": "code",
      "source": [
        "table = \"<table><tr><td id='flight'>Flight No</td><td>Launch site</td> \\\n",
        "<td>Payload mass</td></tr><tr> <td>1</td> \\\n",
        "<td><a href='https://en.wikipedia.org/wiki/Florida'>Florida<a></td> \\\n",
        "<td>300 kg</td></tr><tr><td>2</td> \\\n",
        "<td><a href='https://en.wikipedia.org/wiki/Texas'>Texas</a></td> \\\n",
        "<td>94 kg</td></tr><tr><td>3</td> \\\n",
        "<td><a href='https://en.wikipedia.org/wiki/Florida'>Florida<a> </td> \\\n",
        "<td>80 kg</td></tr></table>\""
      ],
      "metadata": {
        "id": "OFsHwyYAnpku"
      },
      "execution_count": 28,
      "outputs": []
    },
    {
      "cell_type": "code",
      "source": [
        "table_bs = BeautifulSoup(table, 'html5lib')\n",
        "print(table_bs)"
      ],
      "metadata": {
        "colab": {
          "base_uri": "https://localhost:8080/"
        },
        "id": "B7wz0SnZnwxD",
        "outputId": "692a58bb-1929-4a41-d1c1-526a8957df96"
      },
      "execution_count": 29,
      "outputs": [
        {
          "output_type": "stream",
          "name": "stdout",
          "text": [
            "<html><head></head><body><table><tbody><tr><td id=\"flight\">Flight No</td><td>Launch site</td> <td>Payload mass</td></tr><tr> <td>1</td> <td><a href=\"https://en.wikipedia.org/wiki/Florida\">Florida</a><a></a></td> <td>300 kg</td></tr><tr><td>2</td> <td><a href=\"https://en.wikipedia.org/wiki/Texas\">Texas</a></td> <td>94 kg</td></tr><tr><td>3</td> <td><a href=\"https://en.wikipedia.org/wiki/Florida\">Florida</a><a> </a></td> <td>80 kg</td></tr></tbody></table></body></html>\n"
          ]
        }
      ]
    },
    {
      "cell_type": "markdown",
      "source": [
        "## find_All"
      ],
      "metadata": {
        "id": "R8MnDOnboTxe"
      }
    },
    {
      "cell_type": "code",
      "source": [
        "table_rows = table_bs.find_all('tr')\n",
        "table_rows"
      ],
      "metadata": {
        "colab": {
          "base_uri": "https://localhost:8080/"
        },
        "id": "6OfDeZwhn8L1",
        "outputId": "9ca20384-fe48-44ee-a73e-baf948159f19"
      },
      "execution_count": 30,
      "outputs": [
        {
          "output_type": "execute_result",
          "data": {
            "text/plain": [
              "[<tr><td id=\"flight\">Flight No</td><td>Launch site</td> <td>Payload mass</td></tr>,\n",
              " <tr> <td>1</td> <td><a href=\"https://en.wikipedia.org/wiki/Florida\">Florida</a><a></a></td> <td>300 kg</td></tr>,\n",
              " <tr><td>2</td> <td><a href=\"https://en.wikipedia.org/wiki/Texas\">Texas</a></td> <td>94 kg</td></tr>,\n",
              " <tr><td>3</td> <td><a href=\"https://en.wikipedia.org/wiki/Florida\">Florida</a><a> </a></td> <td>80 kg</td></tr>]"
            ]
          },
          "metadata": {},
          "execution_count": 30
        }
      ]
    },
    {
      "cell_type": "code",
      "source": [
        "first_rows = table_rows[0]\n",
        "first_rows"
      ],
      "metadata": {
        "colab": {
          "base_uri": "https://localhost:8080/"
        },
        "id": "qTw2Ty6jozmg",
        "outputId": "40202ed3-bfe6-4f2d-fdfe-a31977df2646"
      },
      "execution_count": 31,
      "outputs": [
        {
          "output_type": "execute_result",
          "data": {
            "text/plain": [
              "<tr><td id=\"flight\">Flight No</td><td>Launch site</td> <td>Payload mass</td></tr>"
            ]
          },
          "metadata": {},
          "execution_count": 31
        }
      ]
    },
    {
      "cell_type": "code",
      "source": [
        "print(type(first_rows))"
      ],
      "metadata": {
        "colab": {
          "base_uri": "https://localhost:8080/"
        },
        "id": "2Xd0StlQpFzf",
        "outputId": "657231c2-3b47-42b1-c0df-a81a9f75bd5a"
      },
      "execution_count": 32,
      "outputs": [
        {
          "output_type": "stream",
          "name": "stdout",
          "text": [
            "<class 'bs4.element.Tag'>\n"
          ]
        }
      ]
    },
    {
      "cell_type": "code",
      "source": [
        "first_rows.td"
      ],
      "metadata": {
        "colab": {
          "base_uri": "https://localhost:8080/"
        },
        "id": "qLL9JaE5pS5o",
        "outputId": "ff11fc29-acc1-4ee7-ae5f-d9080ff5adfc"
      },
      "execution_count": 33,
      "outputs": [
        {
          "output_type": "execute_result",
          "data": {
            "text/plain": [
              "<td id=\"flight\">Flight No</td>"
            ]
          },
          "metadata": {},
          "execution_count": 33
        }
      ]
    },
    {
      "cell_type": "code",
      "source": [
        "for i, row in enumerate(table_rows):\n",
        "    print(\"row : \", i, \"is \", row)"
      ],
      "metadata": {
        "colab": {
          "base_uri": "https://localhost:8080/"
        },
        "id": "mZC-azNQpdqP",
        "outputId": "fb8005c4-df9f-45ce-8544-fbd66e3118ae"
      },
      "execution_count": 34,
      "outputs": [
        {
          "output_type": "stream",
          "name": "stdout",
          "text": [
            "row :  0 is  <tr><td id=\"flight\">Flight No</td><td>Launch site</td> <td>Payload mass</td></tr>\n",
            "row :  1 is  <tr> <td>1</td> <td><a href=\"https://en.wikipedia.org/wiki/Florida\">Florida</a><a></a></td> <td>300 kg</td></tr>\n",
            "row :  2 is  <tr><td>2</td> <td><a href=\"https://en.wikipedia.org/wiki/Texas\">Texas</a></td> <td>94 kg</td></tr>\n",
            "row :  3 is  <tr><td>3</td> <td><a href=\"https://en.wikipedia.org/wiki/Florida\">Florida</a><a> </a></td> <td>80 kg</td></tr>\n"
          ]
        }
      ]
    },
    {
      "cell_type": "code",
      "source": [
        "for i, row in enumerate(table_rows):\n",
        "    print(\"row \", i + 1)\n",
        "    cells = row.find_all('td')\n",
        "    for j, cell in enumerate(cells):\n",
        "        print('column ', j + 1, \"cell \", cell)"
      ],
      "metadata": {
        "colab": {
          "base_uri": "https://localhost:8080/"
        },
        "id": "XDBVubD2psw1",
        "outputId": "745a207e-a24c-4ad1-8b98-35ecbf2395c1"
      },
      "execution_count": 35,
      "outputs": [
        {
          "output_type": "stream",
          "name": "stdout",
          "text": [
            "row  1\n",
            "column  1 cell  <td id=\"flight\">Flight No</td>\n",
            "column  2 cell  <td>Launch site</td>\n",
            "column  3 cell  <td>Payload mass</td>\n",
            "row  2\n",
            "column  1 cell  <td>1</td>\n",
            "column  2 cell  <td><a href=\"https://en.wikipedia.org/wiki/Florida\">Florida</a><a></a></td>\n",
            "column  3 cell  <td>300 kg</td>\n",
            "row  3\n",
            "column  1 cell  <td>2</td>\n",
            "column  2 cell  <td><a href=\"https://en.wikipedia.org/wiki/Texas\">Texas</a></td>\n",
            "column  3 cell  <td>94 kg</td>\n",
            "row  4\n",
            "column  1 cell  <td>3</td>\n",
            "column  2 cell  <td><a href=\"https://en.wikipedia.org/wiki/Florida\">Florida</a><a> </a></td>\n",
            "column  3 cell  <td>80 kg</td>\n"
          ]
        }
      ]
    },
    {
      "cell_type": "code",
      "source": [
        "list_input = table_bs.find_all(name = [\"tr\", \"td\"])\n",
        "list_input"
      ],
      "metadata": {
        "colab": {
          "base_uri": "https://localhost:8080/"
        },
        "id": "ZMyA84Ggq7Dy",
        "outputId": "944b5748-6f32-420a-9cde-dfabacce8ff8"
      },
      "execution_count": 36,
      "outputs": [
        {
          "output_type": "execute_result",
          "data": {
            "text/plain": [
              "[<tr><td id=\"flight\">Flight No</td><td>Launch site</td> <td>Payload mass</td></tr>,\n",
              " <td id=\"flight\">Flight No</td>,\n",
              " <td>Launch site</td>,\n",
              " <td>Payload mass</td>,\n",
              " <tr> <td>1</td> <td><a href=\"https://en.wikipedia.org/wiki/Florida\">Florida</a><a></a></td> <td>300 kg</td></tr>,\n",
              " <td>1</td>,\n",
              " <td><a href=\"https://en.wikipedia.org/wiki/Florida\">Florida</a><a></a></td>,\n",
              " <td>300 kg</td>,\n",
              " <tr><td>2</td> <td><a href=\"https://en.wikipedia.org/wiki/Texas\">Texas</a></td> <td>94 kg</td></tr>,\n",
              " <td>2</td>,\n",
              " <td><a href=\"https://en.wikipedia.org/wiki/Texas\">Texas</a></td>,\n",
              " <td>94 kg</td>,\n",
              " <tr><td>3</td> <td><a href=\"https://en.wikipedia.org/wiki/Florida\">Florida</a><a> </a></td> <td>80 kg</td></tr>,\n",
              " <td>3</td>,\n",
              " <td><a href=\"https://en.wikipedia.org/wiki/Florida\">Florida</a><a> </a></td>,\n",
              " <td>80 kg</td>]"
            ]
          },
          "metadata": {},
          "execution_count": 36
        }
      ]
    },
    {
      "cell_type": "markdown",
      "source": [
        "## Attributes"
      ],
      "metadata": {
        "id": "alpRikzxtBtk"
      }
    },
    {
      "cell_type": "code",
      "source": [
        "table_bs.find_all(id=\"flight\")"
      ],
      "metadata": {
        "colab": {
          "base_uri": "https://localhost:8080/"
        },
        "id": "4vmLtig5s-xQ",
        "outputId": "8a0863ff-3965-4ce1-c842-e7d2119e840f"
      },
      "execution_count": 37,
      "outputs": [
        {
          "output_type": "execute_result",
          "data": {
            "text/plain": [
              "[<td id=\"flight\">Flight No</td>]"
            ]
          },
          "metadata": {},
          "execution_count": 37
        }
      ]
    },
    {
      "cell_type": "code",
      "source": [
        "list_input = table_bs.find_all(href=\"https://en.wikipedia.org/wiki/Florida\")\n",
        "list_input"
      ],
      "metadata": {
        "colab": {
          "base_uri": "https://localhost:8080/"
        },
        "id": "U3PdAOXUtQLJ",
        "outputId": "109dd653-b1be-4740-9480-30483284995a"
      },
      "execution_count": 38,
      "outputs": [
        {
          "output_type": "execute_result",
          "data": {
            "text/plain": [
              "[<a href=\"https://en.wikipedia.org/wiki/Florida\">Florida</a>,\n",
              " <a href=\"https://en.wikipedia.org/wiki/Florida\">Florida</a>]"
            ]
          },
          "metadata": {},
          "execution_count": 38
        }
      ]
    },
    {
      "cell_type": "code",
      "source": [
        "table_bs.find_all('a', href=True)"
      ],
      "metadata": {
        "colab": {
          "base_uri": "https://localhost:8080/"
        },
        "id": "LcOcFrc8tiEz",
        "outputId": "437c3eb3-27b6-4dc1-bc38-7e8defb83df1"
      },
      "execution_count": 39,
      "outputs": [
        {
          "output_type": "execute_result",
          "data": {
            "text/plain": [
              "[<a href=\"https://en.wikipedia.org/wiki/Florida\">Florida</a>,\n",
              " <a href=\"https://en.wikipedia.org/wiki/Texas\">Texas</a>,\n",
              " <a href=\"https://en.wikipedia.org/wiki/Florida\">Florida</a>]"
            ]
          },
          "metadata": {},
          "execution_count": 39
        }
      ]
    },
    {
      "cell_type": "code",
      "source": [
        "table_bs.find_all('a', href=False)"
      ],
      "metadata": {
        "colab": {
          "base_uri": "https://localhost:8080/"
        },
        "id": "DdgAZuWyuIgw",
        "outputId": "2e5f87ec-259e-4a43-939b-b7fb7d338c93"
      },
      "execution_count": 40,
      "outputs": [
        {
          "output_type": "execute_result",
          "data": {
            "text/plain": [
              "[<a></a>, <a> </a>]"
            ]
          },
          "metadata": {},
          "execution_count": 40
        }
      ]
    },
    {
      "cell_type": "code",
      "source": [
        "soup.find_all(id = 'boldest')"
      ],
      "metadata": {
        "colab": {
          "base_uri": "https://localhost:8080/"
        },
        "id": "xf5_m546up_7",
        "outputId": "161fda7e-68d6-4b1c-c1ac-52d6b03339ef"
      },
      "execution_count": 41,
      "outputs": [
        {
          "output_type": "execute_result",
          "data": {
            "text/plain": [
              "[<b id=\"boldest\">Lebron James</b>]"
            ]
          },
          "metadata": {},
          "execution_count": 41
        }
      ]
    },
    {
      "cell_type": "code",
      "source": [
        "for i in table_bs:\n",
        "    print(table_bs.find_all(string=\"Florida\"))"
      ],
      "metadata": {
        "colab": {
          "base_uri": "https://localhost:8080/"
        },
        "id": "QR6tILjtvG-2",
        "outputId": "008fe693-b247-41ef-f263-074d88d72440"
      },
      "execution_count": 42,
      "outputs": [
        {
          "output_type": "stream",
          "name": "stdout",
          "text": [
            "['Florida', 'Florida']\n"
          ]
        }
      ]
    },
    {
      "cell_type": "markdown",
      "source": [
        "## Find"
      ],
      "metadata": {
        "id": "Y36hSWamwYeD"
      }
    },
    {
      "cell_type": "code",
      "source": [
        "%%html\n",
        "<h3>Rocket Launch </h3>\n",
        "\n",
        "<p>\n",
        "<table class='rocket'>\n",
        "  <tr>\n",
        "    <td>Flight No</td>\n",
        "    <td>Launch site</td>\n",
        "    <td>Payload mass</td>\n",
        "  </tr>\n",
        "  <tr>\n",
        "    <td>1</td>\n",
        "    <td>Florida</td>\n",
        "    <td>300 kg</td>\n",
        "  </tr>\n",
        "  <tr>\n",
        "    <td>2</td>\n",
        "    <td>Texas</td>\n",
        "    <td>94 kg</td>\n",
        "  </tr>\n",
        "  <tr>\n",
        "    <td>3</td>\n",
        "    <td>Florida </td>\n",
        "    <td>80 kg</td>\n",
        "  </tr>\n",
        "</table>\n",
        "</p>\n",
        "<p>\n",
        "\n",
        "<h3>Pizza Party</h3>\n",
        "\n",
        "\n",
        "<table class='pizza'>\n",
        "  <tr>\n",
        "    <td>Pizza Place</td>\n",
        "    <td>Orders</td>\n",
        "    <td>Slices </td>\n",
        "   </tr>\n",
        "  <tr>\n",
        "    <td>Domino's Pizza</td>\n",
        "    <td>10</td>\n",
        "    <td>100</td>\n",
        "  </tr>\n",
        "  <tr>\n",
        "    <td>Little Caesars</td>\n",
        "    <td>12</td>\n",
        "    <td >144 </td>\n",
        "  </tr>\n",
        "  <tr>\n",
        "    <td>Papa John's </td>\n",
        "    <td>15 </td>\n",
        "    <td>165</td>\n",
        "  </tr>\n"
      ],
      "metadata": {
        "colab": {
          "base_uri": "https://localhost:8080/",
          "height": 270
        },
        "id": "BXWhBP3fvr9I",
        "outputId": "6c2f004f-79cb-462f-bec7-109825632613"
      },
      "execution_count": 43,
      "outputs": [
        {
          "output_type": "display_data",
          "data": {
            "text/plain": [
              "<IPython.core.display.HTML object>"
            ],
            "text/html": [
              "<h3>Rocket Launch </h3>\n",
              "\n",
              "<p>\n",
              "<table class='rocket'>\n",
              "  <tr>\n",
              "    <td>Flight No</td>\n",
              "    <td>Launch site</td>\n",
              "    <td>Payload mass</td>\n",
              "  </tr>\n",
              "  <tr>\n",
              "    <td>1</td>\n",
              "    <td>Florida</td>\n",
              "    <td>300 kg</td>\n",
              "  </tr>\n",
              "  <tr>\n",
              "    <td>2</td>\n",
              "    <td>Texas</td>\n",
              "    <td>94 kg</td>\n",
              "  </tr>\n",
              "  <tr>\n",
              "    <td>3</td>\n",
              "    <td>Florida </td>\n",
              "    <td>80 kg</td>\n",
              "  </tr>\n",
              "</table>\n",
              "</p>\n",
              "<p>\n",
              "\n",
              "<h3>Pizza Party</h3>\n",
              "\n",
              "\n",
              "<table class='pizza'>\n",
              "  <tr>\n",
              "    <td>Pizza Place</td>\n",
              "    <td>Orders</td>\n",
              "    <td>Slices </td>\n",
              "   </tr>\n",
              "  <tr>\n",
              "    <td>Domino's Pizza</td>\n",
              "    <td>10</td>\n",
              "    <td>100</td>\n",
              "  </tr>\n",
              "  <tr>\n",
              "    <td>Little Caesars</td>\n",
              "    <td>12</td>\n",
              "    <td >144 </td>\n",
              "  </tr>\n",
              "  <tr>\n",
              "    <td>Papa John's </td>\n",
              "    <td>15 </td>\n",
              "    <td>165</td>\n",
              "  </tr>\n"
            ]
          },
          "metadata": {}
        }
      ]
    },
    {
      "cell_type": "code",
      "source": [
        "two_tables =\"<h3>Rocket Launch </h3> \\\n",
        "<p><table class='rocket'> \\\n",
        "<tr><td>Flight No</td><td>Launch site</td><td>Payload mass</td></tr> \\\n",
        "<tr><td>1</td><td>Florida</td><td>300 kg</td></tr> \\\n",
        "<tr><td>2</td><td>Texas</td><td>94 kg</td></tr> \\\n",
        "<tr><td>3</td><td>Florida </td><td>80 kg</td></tr></table></p>\\\n",
        "<p><h3>Pizza Party</h3> \\\n",
        "<table class='pizza'> \\\n",
        "<tr><td>Pizza Place</td><td>Orders</td><td>Slices </td></tr> \\\n",
        "<tr><td>Domino's Pizza</td><td>10</td><td>100</td></tr> \\\n",
        "<tr><td>Little Caesars</td><td>12</td><td >144 </td></tr> \\\n",
        "<tr><td>Papa John's</td><td>15 </td><td>165</td></tr>\""
      ],
      "metadata": {
        "id": "hy2_dUEAwbir"
      },
      "execution_count": 44,
      "outputs": []
    },
    {
      "cell_type": "code",
      "source": [
        "two_tables_bs = BeautifulSoup(two_tables, 'html.parser')\n",
        "print(two_tables_bs)"
      ],
      "metadata": {
        "colab": {
          "base_uri": "https://localhost:8080/"
        },
        "id": "EXNXPygVwiUh",
        "outputId": "8a570343-416d-4dc4-b899-82aa27c6888a"
      },
      "execution_count": 45,
      "outputs": [
        {
          "output_type": "stream",
          "name": "stdout",
          "text": [
            "<h3>Rocket Launch </h3> <p><table class=\"rocket\"> <tr><td>Flight No</td><td>Launch site</td><td>Payload mass</td></tr> <tr><td>1</td><td>Florida</td><td>300 kg</td></tr> <tr><td>2</td><td>Texas</td><td>94 kg</td></tr> <tr><td>3</td><td>Florida </td><td>80 kg</td></tr></table></p><p><h3>Pizza Party</h3> <table class=\"pizza\"> <tr><td>Pizza Place</td><td>Orders</td><td>Slices </td></tr> <tr><td>Domino's Pizza</td><td>10</td><td>100</td></tr> <tr><td>Little Caesars</td><td>12</td><td>144 </td></tr> <tr><td>Papa John's</td><td>15 </td><td>165</td></tr></table></p>\n"
          ]
        }
      ]
    },
    {
      "cell_type": "code",
      "source": [
        "two_tables_bs.find('table')"
      ],
      "metadata": {
        "colab": {
          "base_uri": "https://localhost:8080/"
        },
        "id": "YqTHPYWNxDXH",
        "outputId": "6453ce58-7760-4941-b657-48829fcb8f14"
      },
      "execution_count": 46,
      "outputs": [
        {
          "output_type": "execute_result",
          "data": {
            "text/plain": [
              "<table class=\"rocket\"> <tr><td>Flight No</td><td>Launch site</td><td>Payload mass</td></tr> <tr><td>1</td><td>Florida</td><td>300 kg</td></tr> <tr><td>2</td><td>Texas</td><td>94 kg</td></tr> <tr><td>3</td><td>Florida </td><td>80 kg</td></tr></table>"
            ]
          },
          "metadata": {},
          "execution_count": 46
        }
      ]
    },
    {
      "cell_type": "code",
      "source": [
        "two_tables_bs.find(\"table\", class_ = \"pizza\")"
      ],
      "metadata": {
        "colab": {
          "base_uri": "https://localhost:8080/"
        },
        "id": "Q-8zw6V2x4Ak",
        "outputId": "7ba61019-82ae-4cf8-862e-445993b108bd"
      },
      "execution_count": 47,
      "outputs": [
        {
          "output_type": "execute_result",
          "data": {
            "text/plain": [
              "<table class=\"pizza\"> <tr><td>Pizza Place</td><td>Orders</td><td>Slices </td></tr> <tr><td>Domino's Pizza</td><td>10</td><td>100</td></tr> <tr><td>Little Caesars</td><td>12</td><td>144 </td></tr> <tr><td>Papa John's</td><td>15 </td><td>165</td></tr></table>"
            ]
          },
          "metadata": {},
          "execution_count": 47
        }
      ]
    },
    {
      "cell_type": "code",
      "source": [
        "# Extract the Rocket Launch table\n",
        "rocket_table = soup.find(\"table\", {\"class\": \"rocket\"})\n",
        "print(rocket_table)\n",
        "# Extract the Pizza Party table\n",
        "pizza_table = soup.find(\"table\", {\"class\": \"pizza\"})\n",
        "print(pizza_table)"
      ],
      "metadata": {
        "colab": {
          "base_uri": "https://localhost:8080/"
        },
        "id": "wyZ0GbFkyIxG",
        "outputId": "59e802d6-8d7a-46f3-ea6e-ac90619a1e56"
      },
      "execution_count": 48,
      "outputs": [
        {
          "output_type": "stream",
          "name": "stdout",
          "text": [
            "None\n",
            "None\n"
          ]
        }
      ]
    },
    {
      "cell_type": "markdown",
      "source": [
        "## Downloading and scraping the contents of a web page"
      ],
      "metadata": {
        "id": "T95_3sb1zDSg"
      }
    },
    {
      "cell_type": "code",
      "source": [
        "url = \"http://www.ibm.com\""
      ],
      "metadata": {
        "id": "ViDvC5T_y5tA"
      },
      "execution_count": 49,
      "outputs": []
    },
    {
      "cell_type": "code",
      "source": [
        "data = requests.get(url).text"
      ],
      "metadata": {
        "id": "uOlCVn3OzSWv",
        "collapsed": true
      },
      "execution_count": 50,
      "outputs": []
    },
    {
      "cell_type": "code",
      "source": [
        "soup = BeautifulSoup(data, \"html5lib\")"
      ],
      "metadata": {
        "id": "x6BlGsU0zbsT",
        "collapsed": true
      },
      "execution_count": 52,
      "outputs": []
    },
    {
      "cell_type": "code",
      "source": [
        "# scape all link\n",
        "for link in soup.find_all('a', href = True):\n",
        "      print(link.get('href'))"
      ],
      "metadata": {
        "colab": {
          "base_uri": "https://localhost:8080/"
        },
        "id": "fa_jFgBxz-KF",
        "outputId": "9b85ea75-d587-4ef3-a35e-a24be484bf64"
      },
      "execution_count": 53,
      "outputs": [
        {
          "output_type": "stream",
          "name": "stdout",
          "text": [
            "https://www.ibm.com/granite?lnk=dev\n",
            "https://developer.ibm.com/technologies/artificial-intelligence?lnk=dev\n",
            "https://www.ibm.com/products/watsonx-code-assistant?lnk=dev\n",
            "https://www.ibm.com/watsonx/developer/?lnk=dev\n",
            "https://www.ibm.com/thought-leadership/institute-business-value/report/ceo-generative-ai?lnk=bus\n",
            "https://www.ibm.com/think/reports/ai-in-action?lnk=bus\n",
            "https://www.ibm.com/products/watsonx-orchestrate/ai-agent-for-hr?lnk=bus\n",
            "https://skillsbuild.org/adult-learners/explore-learning/artificial-intelligence?lnk=bus\n",
            "https://www.ibm.com/artificial-intelligence?lnk=ProdC\n",
            "https://www.ibm.com/hybrid-cloud?lnk=ProdC\n",
            "https://www.ibm.com/consulting?lnk=ProdC\n"
          ]
        }
      ]
    },
    {
      "cell_type": "code",
      "source": [
        "for link in soup.find_all('img'):\n",
        "      print(link)\n",
        "print(link.get('src'))\n",
        "print(link)"
      ],
      "metadata": {
        "colab": {
          "base_uri": "https://localhost:8080/"
        },
        "id": "rPx_E-5c0N2v",
        "outputId": "8f025481-e02e-4b42-bda5-d459520a0371"
      },
      "execution_count": 54,
      "outputs": [
        {
          "output_type": "stream",
          "name": "stdout",
          "text": [
            "None\n",
            "<a href=\"https://www.ibm.com/consulting?lnk=ProdC\">IBM Consulting</a>\n"
          ]
        }
      ]
    },
    {
      "cell_type": "code",
      "source": [
        "# The below url contains an html table with data about colors and color codes.\n",
        "url = \"https://cf-courses-data.s3.us.cloud-object-storage.appdomain.cloud/IBM-DA0321EN-SkillsNetwork/labs/datasets/HTMLColorCodes.html\""
      ],
      "metadata": {
        "id": "ZJochLAw1M6N"
      },
      "execution_count": 55,
      "outputs": []
    },
    {
      "cell_type": "code",
      "source": [
        "# get the contents of the webpage in text format and store in a variable called data\n",
        "data = requests.get(url).text\n",
        "print(data)"
      ],
      "metadata": {
        "colab": {
          "base_uri": "https://localhost:8080/"
        },
        "id": "y7HldF7M1_Hk",
        "outputId": "8fdfe232-397f-41d5-af90-2276e0ac03d0"
      },
      "execution_count": 56,
      "outputs": [
        {
          "output_type": "stream",
          "name": "stdout",
          "text": [
            "<html>\n",
            "   <body>\n",
            "      <h1>Partital List  of HTML5 Supported Colors</h1>\n",
            "<table border =\"1\" class=\"main-table\">\n",
            "   <tr>\n",
            "      <td>Number </td>\n",
            "      <td>Color</td>\n",
            "      <td>Color Name</td>\n",
            "      <td>Hex Code<br>#RRGGBB</td>\n",
            "      <td>Decimal Code<br>(R,G,B)</td>\n",
            "   </tr>\n",
            "   <tr>\n",
            "      <td>1</td>\n",
            "      <td style=\"background:lightsalmon;\">&nbsp;</td>\n",
            "      <td>lightsalmon</td>\n",
            "      <td>#FFA07A</td>\n",
            "      <td>rgb(255,160,122)</td>\n",
            "   </tr>\n",
            "   <tr>\n",
            "      <td>2</td>\n",
            "      <td style=\"background:salmon;\">&nbsp;</td>\n",
            "      <td>salmon</td>\n",
            "      <td>#FA8072</td>\n",
            "      <td>rgb(250,128,114)</td>\n",
            "   </tr>\n",
            "   <tr>\n",
            "      <td>3</td>\n",
            "      <td style=\"background:darksalmon;\">&nbsp;</td>\n",
            "      <td>darksalmon</td>\n",
            "      <td>#E9967A</td>\n",
            "      <td>rgb(233,150,122)</td>\n",
            "   </tr>\n",
            "   <tr>\n",
            "      <td>4</td>\n",
            "      <td style=\"background:lightcoral;\">&nbsp;</td>\n",
            "      <td>lightcoral</td>\n",
            "      <td>#F08080</td>\n",
            "      <td>rgb(240,128,128)</td>\n",
            "   </tr>\n",
            "   <tr>\n",
            "      <td>5</td>\n",
            "      <td style=\"background:coral;\">&nbsp;</td>\n",
            "      <td>coral</td>\n",
            "      <td>#FF7F50</td>\n",
            "      <td>rgb(255,127,80)</td>\n",
            "   </tr>\n",
            "   <tr>\n",
            "      <td>6</td>\n",
            "      <td style=\"background:tomato;\">&nbsp;</td>\n",
            "      <td>tomato</td>\n",
            "      <td>#FF6347</td>\n",
            "      <td>rgb(255,99,71)</td>\n",
            "   </tr>\n",
            "   <tr>\n",
            "      <td>7</td>\n",
            "      <td style=\"background:orangered;\">&nbsp;</td>\n",
            "      <td>orangered</td>\n",
            "      <td>#FF4500</td>\n",
            "      <td>rgb(255,69,0)</td>\n",
            "   </tr>\n",
            "   <tr>\n",
            "      <td>8</td>\n",
            "      <td style=\"background:gold;\">&nbsp;</td>\n",
            "      <td>gold</td>\n",
            "      <td>#FFD700</td>\n",
            "      <td>rgb(255,215,0)</td>\n",
            "   </tr>\n",
            "   <tr>\n",
            "      <td>9</td>\n",
            "      <td style=\"background:orange;\">&nbsp;</td>\n",
            "      <td>orange</td>\n",
            "      <td>#FFA500</td>\n",
            "      <td>rgb(255,165,0)</td>\n",
            "   </tr>\n",
            "   <tr>\n",
            "      <td>10</td>\n",
            "      <td style=\"background:darkorange;\">&nbsp;</td>\n",
            "      <td>darkorange</td>\n",
            "      <td>#FF8C00</td>\n",
            "      <td>rgb(255,140,0)</td>\n",
            "   </tr>\n",
            "   <tr>\n",
            "      <td>11</td>\n",
            "      <td style=\"background:lightyellow;\">&nbsp;</td>\n",
            "      <td>lightyellow</td>\n",
            "      <td>#FFFFE0</td>\n",
            "      <td>rgb(255,255,224)</td>\n",
            "   </tr>\n",
            "   <tr>\n",
            "      <td>12</td>\n",
            "      <td style=\"background:lemonchiffon;\">&nbsp;</td>\n",
            "      <td>lemonchiffon</td>\n",
            "      <td>#FFFACD</td>\n",
            "      <td>rgb(255,250,205)</td>\n",
            "   </tr>\n",
            "   <tr>\n",
            "      <td>13</td>\n",
            "      <td style=\"background:papayawhip;\">&nbsp;</td>\n",
            "      <td>papayawhip</td>\n",
            "      <td>#FFEFD5</td>\n",
            "      <td>rgb(255,239,213)</td>\n",
            "   </tr>\n",
            "   <tr>\n",
            "      <td>14</td>\n",
            "      <td style=\"background:moccasin;\">&nbsp;</td>\n",
            "      <td>moccasin</td>\n",
            "      <td>#FFE4B5</td>\n",
            "      <td>rgb(255,228,181)</td>\n",
            "   </tr>\n",
            "   <tr>\n",
            "      <td>15</td>\n",
            "      <td style=\"background:peachpuff;\">&nbsp;</td>\n",
            "      <td>peachpuff</td>\n",
            "      <td>#FFDAB9</td>\n",
            "      <td>rgb(255,218,185)</td>\n",
            "   </tr>\n",
            "   <tr>\n",
            "      <td>16</td>\n",
            "      <td style=\"background:palegoldenrod;\">&nbsp;</td>\n",
            "      <td>palegoldenrod</td>\n",
            "      <td>#EEE8AA</td>\n",
            "      <td>rgb(238,232,170)</td>\n",
            "   </tr>\n",
            "   <tr>\n",
            "      <td>17</td>\n",
            "      <td style=\"background:khaki;\">&nbsp;</td>\n",
            "      <td>khaki</td>\n",
            "      <td>#F0E68C</td>\n",
            "      <td>rgb(240,230,140)</td>\n",
            "   </tr>\n",
            "   <tr>\n",
            "      <td>18</td>\n",
            "      <td style=\"background:darkkhaki;\">&nbsp;</td>\n",
            "      <td>darkkhaki</td>\n",
            "      <td>#BDB76B</td>\n",
            "      <td>rgb(189,183,107)</td>\n",
            "   </tr>\n",
            "   <tr>\n",
            "      <td>19</td>\n",
            "      <td style=\"background:yellow;\">&nbsp;</td>\n",
            "      <td>yellow</td>\n",
            "      <td>#FFFF00</td>\n",
            "      <td>rgb(255,255,0)</td>\n",
            "   </tr>\n",
            "   <tr>\n",
            "      <td>20</td>\n",
            "      <td style=\"background:lawngreen;\">&nbsp;</td>\n",
            "      <td>lawngreen</td>\n",
            "      <td>#7CFC00</td>\n",
            "      <td>rgb(124,252,0)</td>\n",
            "   </tr>\n",
            "   <tr>\n",
            "      <td>21</td>\n",
            "      <td style=\"background:chartreuse;\">&nbsp;</td>\n",
            "      <td>chartreuse</td>\n",
            "      <td>#7FFF00</td>\n",
            "      <td>rgb(127,255,0)</td>\n",
            "   </tr>\n",
            "   <tr>\n",
            "      <td>22</td>\n",
            "      <td style=\"background:limegreen;\">&nbsp;</td>\n",
            "      <td>limegreen</td>\n",
            "      <td>#32CD32</td>\n",
            "      <td>rgb(50,205,50)</td>\n",
            "   </tr>\n",
            "   <tr>\n",
            "      <td>23</td>\n",
            "      <td style=\"background:lime;\">&nbsp;</td>\n",
            "      <td>lime</td>\n",
            "      <td>#00FF00</td>\n",
            "      <td>rgb(0.255.0)</td>\n",
            "   </tr>\n",
            "   <tr>\n",
            "      <td>24</td>\n",
            "      <td style=\"background:forestgreen;\">&nbsp;</td>\n",
            "      <td>forestgreen</td>\n",
            "      <td>#228B22</td>\n",
            "      <td>rgb(34,139,34)</td>\n",
            "   </tr>\n",
            "   <tr>\n",
            "      <td>25</td>\n",
            "      <td style=\"background:green;\">&nbsp;</td>\n",
            "      <td>green</td>\n",
            "      <td>#008000</td>\n",
            "      <td>rgb(0,128,0)</td>\n",
            "   </tr>\n",
            "   <tr>\n",
            "      <td>26</td>\n",
            "      <td style=\"background:powderblue;\">&nbsp;</td>\n",
            "      <td>powderblue</td>\n",
            "      <td>#B0E0E6</td>\n",
            "      <td>rgb(176,224,230)</td>\n",
            "   </tr>\n",
            "   <tr>\n",
            "      <td>27</td>\n",
            "      <td style=\"background:lightblue;\">&nbsp;</td>\n",
            "      <td>lightblue</td>\n",
            "      <td>#ADD8E6</td>\n",
            "      <td>rgb(173,216,230)</td>\n",
            "   </tr>\n",
            "   <tr>\n",
            "      <td>28</td>\n",
            "      <td style=\"background:lightskyblue;\">&nbsp;</td>\n",
            "      <td>lightskyblue</td>\n",
            "      <td>#87CEFA</td>\n",
            "      <td>rgb(135,206,250)</td>\n",
            "   </tr>\n",
            "   <tr>\n",
            "      <td>29</td>\n",
            "      <td style=\"background:skyblue;\">&nbsp;</td>\n",
            "      <td>skyblue</td>\n",
            "      <td>#87CEEB</td>\n",
            "      <td>rgb(135,206,235)</td>\n",
            "   </tr>\n",
            "   <tr>\n",
            "      <td>30</td>\n",
            "      <td style=\"background:deepskyblue;\">&nbsp;</td>\n",
            "      <td>deepskyblue</td>\n",
            "      <td>#00BFFF</td>\n",
            "      <td>rgb(0,191,255)</td>\n",
            "   </tr>\n",
            "   <tr>\n",
            "      <td>31</td>\n",
            "      <td style=\"background:lightsteelblue;\">&nbsp;</td>\n",
            "      <td>lightsteelblue</td>\n",
            "      <td>#B0C4DE</td>\n",
            "      <td>rgb(176,196,222)</td>\n",
            "   </tr>\n",
            "   <tr>\n",
            "      <td>32</td>\n",
            "      <td style=\"background:dodgerblue;\">&nbsp;</td>\n",
            "      <td>dodgerblue</td>\n",
            "      <td>#1E90FF</td>\n",
            "      <td>rgb(30,144,255)</td>\n",
            "   </tr>\n",
            "</table>\n",
            "   </body>\n",
            "</html>\n"
          ]
        }
      ]
    },
    {
      "cell_type": "code",
      "source": [
        "soup = BeautifulSoup(data, \"html5lib\")\n",
        "print(soup)"
      ],
      "metadata": {
        "colab": {
          "base_uri": "https://localhost:8080/"
        },
        "id": "fbEjoMV52Yf8",
        "outputId": "84046d2c-ba96-4974-854c-99614d9561e1"
      },
      "execution_count": 57,
      "outputs": [
        {
          "output_type": "stream",
          "name": "stdout",
          "text": [
            "<html><head></head><body>\n",
            "      <h1>Partital List  of HTML5 Supported Colors</h1>\n",
            "<table border=\"1\" class=\"main-table\">\n",
            "   <tbody><tr>\n",
            "      <td>Number </td>\n",
            "      <td>Color</td>\n",
            "      <td>Color Name</td>\n",
            "      <td>Hex Code<br/>#RRGGBB</td>\n",
            "      <td>Decimal Code<br/>(R,G,B)</td>\n",
            "   </tr>\n",
            "   <tr>\n",
            "      <td>1</td>\n",
            "      <td style=\"background:lightsalmon;\"> </td>\n",
            "      <td>lightsalmon</td>\n",
            "      <td>#FFA07A</td>\n",
            "      <td>rgb(255,160,122)</td>\n",
            "   </tr>\n",
            "   <tr>\n",
            "      <td>2</td>\n",
            "      <td style=\"background:salmon;\"> </td>\n",
            "      <td>salmon</td>\n",
            "      <td>#FA8072</td>\n",
            "      <td>rgb(250,128,114)</td>\n",
            "   </tr>\n",
            "   <tr>\n",
            "      <td>3</td>\n",
            "      <td style=\"background:darksalmon;\"> </td>\n",
            "      <td>darksalmon</td>\n",
            "      <td>#E9967A</td>\n",
            "      <td>rgb(233,150,122)</td>\n",
            "   </tr>\n",
            "   <tr>\n",
            "      <td>4</td>\n",
            "      <td style=\"background:lightcoral;\"> </td>\n",
            "      <td>lightcoral</td>\n",
            "      <td>#F08080</td>\n",
            "      <td>rgb(240,128,128)</td>\n",
            "   </tr>\n",
            "   <tr>\n",
            "      <td>5</td>\n",
            "      <td style=\"background:coral;\"> </td>\n",
            "      <td>coral</td>\n",
            "      <td>#FF7F50</td>\n",
            "      <td>rgb(255,127,80)</td>\n",
            "   </tr>\n",
            "   <tr>\n",
            "      <td>6</td>\n",
            "      <td style=\"background:tomato;\"> </td>\n",
            "      <td>tomato</td>\n",
            "      <td>#FF6347</td>\n",
            "      <td>rgb(255,99,71)</td>\n",
            "   </tr>\n",
            "   <tr>\n",
            "      <td>7</td>\n",
            "      <td style=\"background:orangered;\"> </td>\n",
            "      <td>orangered</td>\n",
            "      <td>#FF4500</td>\n",
            "      <td>rgb(255,69,0)</td>\n",
            "   </tr>\n",
            "   <tr>\n",
            "      <td>8</td>\n",
            "      <td style=\"background:gold;\"> </td>\n",
            "      <td>gold</td>\n",
            "      <td>#FFD700</td>\n",
            "      <td>rgb(255,215,0)</td>\n",
            "   </tr>\n",
            "   <tr>\n",
            "      <td>9</td>\n",
            "      <td style=\"background:orange;\"> </td>\n",
            "      <td>orange</td>\n",
            "      <td>#FFA500</td>\n",
            "      <td>rgb(255,165,0)</td>\n",
            "   </tr>\n",
            "   <tr>\n",
            "      <td>10</td>\n",
            "      <td style=\"background:darkorange;\"> </td>\n",
            "      <td>darkorange</td>\n",
            "      <td>#FF8C00</td>\n",
            "      <td>rgb(255,140,0)</td>\n",
            "   </tr>\n",
            "   <tr>\n",
            "      <td>11</td>\n",
            "      <td style=\"background:lightyellow;\"> </td>\n",
            "      <td>lightyellow</td>\n",
            "      <td>#FFFFE0</td>\n",
            "      <td>rgb(255,255,224)</td>\n",
            "   </tr>\n",
            "   <tr>\n",
            "      <td>12</td>\n",
            "      <td style=\"background:lemonchiffon;\"> </td>\n",
            "      <td>lemonchiffon</td>\n",
            "      <td>#FFFACD</td>\n",
            "      <td>rgb(255,250,205)</td>\n",
            "   </tr>\n",
            "   <tr>\n",
            "      <td>13</td>\n",
            "      <td style=\"background:papayawhip;\"> </td>\n",
            "      <td>papayawhip</td>\n",
            "      <td>#FFEFD5</td>\n",
            "      <td>rgb(255,239,213)</td>\n",
            "   </tr>\n",
            "   <tr>\n",
            "      <td>14</td>\n",
            "      <td style=\"background:moccasin;\"> </td>\n",
            "      <td>moccasin</td>\n",
            "      <td>#FFE4B5</td>\n",
            "      <td>rgb(255,228,181)</td>\n",
            "   </tr>\n",
            "   <tr>\n",
            "      <td>15</td>\n",
            "      <td style=\"background:peachpuff;\"> </td>\n",
            "      <td>peachpuff</td>\n",
            "      <td>#FFDAB9</td>\n",
            "      <td>rgb(255,218,185)</td>\n",
            "   </tr>\n",
            "   <tr>\n",
            "      <td>16</td>\n",
            "      <td style=\"background:palegoldenrod;\"> </td>\n",
            "      <td>palegoldenrod</td>\n",
            "      <td>#EEE8AA</td>\n",
            "      <td>rgb(238,232,170)</td>\n",
            "   </tr>\n",
            "   <tr>\n",
            "      <td>17</td>\n",
            "      <td style=\"background:khaki;\"> </td>\n",
            "      <td>khaki</td>\n",
            "      <td>#F0E68C</td>\n",
            "      <td>rgb(240,230,140)</td>\n",
            "   </tr>\n",
            "   <tr>\n",
            "      <td>18</td>\n",
            "      <td style=\"background:darkkhaki;\"> </td>\n",
            "      <td>darkkhaki</td>\n",
            "      <td>#BDB76B</td>\n",
            "      <td>rgb(189,183,107)</td>\n",
            "   </tr>\n",
            "   <tr>\n",
            "      <td>19</td>\n",
            "      <td style=\"background:yellow;\"> </td>\n",
            "      <td>yellow</td>\n",
            "      <td>#FFFF00</td>\n",
            "      <td>rgb(255,255,0)</td>\n",
            "   </tr>\n",
            "   <tr>\n",
            "      <td>20</td>\n",
            "      <td style=\"background:lawngreen;\"> </td>\n",
            "      <td>lawngreen</td>\n",
            "      <td>#7CFC00</td>\n",
            "      <td>rgb(124,252,0)</td>\n",
            "   </tr>\n",
            "   <tr>\n",
            "      <td>21</td>\n",
            "      <td style=\"background:chartreuse;\"> </td>\n",
            "      <td>chartreuse</td>\n",
            "      <td>#7FFF00</td>\n",
            "      <td>rgb(127,255,0)</td>\n",
            "   </tr>\n",
            "   <tr>\n",
            "      <td>22</td>\n",
            "      <td style=\"background:limegreen;\"> </td>\n",
            "      <td>limegreen</td>\n",
            "      <td>#32CD32</td>\n",
            "      <td>rgb(50,205,50)</td>\n",
            "   </tr>\n",
            "   <tr>\n",
            "      <td>23</td>\n",
            "      <td style=\"background:lime;\"> </td>\n",
            "      <td>lime</td>\n",
            "      <td>#00FF00</td>\n",
            "      <td>rgb(0.255.0)</td>\n",
            "   </tr>\n",
            "   <tr>\n",
            "      <td>24</td>\n",
            "      <td style=\"background:forestgreen;\"> </td>\n",
            "      <td>forestgreen</td>\n",
            "      <td>#228B22</td>\n",
            "      <td>rgb(34,139,34)</td>\n",
            "   </tr>\n",
            "   <tr>\n",
            "      <td>25</td>\n",
            "      <td style=\"background:green;\"> </td>\n",
            "      <td>green</td>\n",
            "      <td>#008000</td>\n",
            "      <td>rgb(0,128,0)</td>\n",
            "   </tr>\n",
            "   <tr>\n",
            "      <td>26</td>\n",
            "      <td style=\"background:powderblue;\"> </td>\n",
            "      <td>powderblue</td>\n",
            "      <td>#B0E0E6</td>\n",
            "      <td>rgb(176,224,230)</td>\n",
            "   </tr>\n",
            "   <tr>\n",
            "      <td>27</td>\n",
            "      <td style=\"background:lightblue;\"> </td>\n",
            "      <td>lightblue</td>\n",
            "      <td>#ADD8E6</td>\n",
            "      <td>rgb(173,216,230)</td>\n",
            "   </tr>\n",
            "   <tr>\n",
            "      <td>28</td>\n",
            "      <td style=\"background:lightskyblue;\"> </td>\n",
            "      <td>lightskyblue</td>\n",
            "      <td>#87CEFA</td>\n",
            "      <td>rgb(135,206,250)</td>\n",
            "   </tr>\n",
            "   <tr>\n",
            "      <td>29</td>\n",
            "      <td style=\"background:skyblue;\"> </td>\n",
            "      <td>skyblue</td>\n",
            "      <td>#87CEEB</td>\n",
            "      <td>rgb(135,206,235)</td>\n",
            "   </tr>\n",
            "   <tr>\n",
            "      <td>30</td>\n",
            "      <td style=\"background:deepskyblue;\"> </td>\n",
            "      <td>deepskyblue</td>\n",
            "      <td>#00BFFF</td>\n",
            "      <td>rgb(0,191,255)</td>\n",
            "   </tr>\n",
            "   <tr>\n",
            "      <td>31</td>\n",
            "      <td style=\"background:lightsteelblue;\"> </td>\n",
            "      <td>lightsteelblue</td>\n",
            "      <td>#B0C4DE</td>\n",
            "      <td>rgb(176,196,222)</td>\n",
            "   </tr>\n",
            "   <tr>\n",
            "      <td>32</td>\n",
            "      <td style=\"background:dodgerblue;\"> </td>\n",
            "      <td>dodgerblue</td>\n",
            "      <td>#1E90FF</td>\n",
            "      <td>rgb(30,144,255)</td>\n",
            "   </tr>\n",
            "</tbody></table>\n",
            "   \n",
            "</body></html>\n"
          ]
        }
      ]
    },
    {
      "cell_type": "code",
      "source": [
        "table = soup.find('table'); print(table)"
      ],
      "metadata": {
        "colab": {
          "base_uri": "https://localhost:8080/"
        },
        "id": "JGQSY-7m2sSK",
        "outputId": "2d277950-770b-4ff6-c9ce-fc416eaa106b"
      },
      "execution_count": 58,
      "outputs": [
        {
          "output_type": "stream",
          "name": "stdout",
          "text": [
            "<table border=\"1\" class=\"main-table\">\n",
            "   <tbody><tr>\n",
            "      <td>Number </td>\n",
            "      <td>Color</td>\n",
            "      <td>Color Name</td>\n",
            "      <td>Hex Code<br/>#RRGGBB</td>\n",
            "      <td>Decimal Code<br/>(R,G,B)</td>\n",
            "   </tr>\n",
            "   <tr>\n",
            "      <td>1</td>\n",
            "      <td style=\"background:lightsalmon;\"> </td>\n",
            "      <td>lightsalmon</td>\n",
            "      <td>#FFA07A</td>\n",
            "      <td>rgb(255,160,122)</td>\n",
            "   </tr>\n",
            "   <tr>\n",
            "      <td>2</td>\n",
            "      <td style=\"background:salmon;\"> </td>\n",
            "      <td>salmon</td>\n",
            "      <td>#FA8072</td>\n",
            "      <td>rgb(250,128,114)</td>\n",
            "   </tr>\n",
            "   <tr>\n",
            "      <td>3</td>\n",
            "      <td style=\"background:darksalmon;\"> </td>\n",
            "      <td>darksalmon</td>\n",
            "      <td>#E9967A</td>\n",
            "      <td>rgb(233,150,122)</td>\n",
            "   </tr>\n",
            "   <tr>\n",
            "      <td>4</td>\n",
            "      <td style=\"background:lightcoral;\"> </td>\n",
            "      <td>lightcoral</td>\n",
            "      <td>#F08080</td>\n",
            "      <td>rgb(240,128,128)</td>\n",
            "   </tr>\n",
            "   <tr>\n",
            "      <td>5</td>\n",
            "      <td style=\"background:coral;\"> </td>\n",
            "      <td>coral</td>\n",
            "      <td>#FF7F50</td>\n",
            "      <td>rgb(255,127,80)</td>\n",
            "   </tr>\n",
            "   <tr>\n",
            "      <td>6</td>\n",
            "      <td style=\"background:tomato;\"> </td>\n",
            "      <td>tomato</td>\n",
            "      <td>#FF6347</td>\n",
            "      <td>rgb(255,99,71)</td>\n",
            "   </tr>\n",
            "   <tr>\n",
            "      <td>7</td>\n",
            "      <td style=\"background:orangered;\"> </td>\n",
            "      <td>orangered</td>\n",
            "      <td>#FF4500</td>\n",
            "      <td>rgb(255,69,0)</td>\n",
            "   </tr>\n",
            "   <tr>\n",
            "      <td>8</td>\n",
            "      <td style=\"background:gold;\"> </td>\n",
            "      <td>gold</td>\n",
            "      <td>#FFD700</td>\n",
            "      <td>rgb(255,215,0)</td>\n",
            "   </tr>\n",
            "   <tr>\n",
            "      <td>9</td>\n",
            "      <td style=\"background:orange;\"> </td>\n",
            "      <td>orange</td>\n",
            "      <td>#FFA500</td>\n",
            "      <td>rgb(255,165,0)</td>\n",
            "   </tr>\n",
            "   <tr>\n",
            "      <td>10</td>\n",
            "      <td style=\"background:darkorange;\"> </td>\n",
            "      <td>darkorange</td>\n",
            "      <td>#FF8C00</td>\n",
            "      <td>rgb(255,140,0)</td>\n",
            "   </tr>\n",
            "   <tr>\n",
            "      <td>11</td>\n",
            "      <td style=\"background:lightyellow;\"> </td>\n",
            "      <td>lightyellow</td>\n",
            "      <td>#FFFFE0</td>\n",
            "      <td>rgb(255,255,224)</td>\n",
            "   </tr>\n",
            "   <tr>\n",
            "      <td>12</td>\n",
            "      <td style=\"background:lemonchiffon;\"> </td>\n",
            "      <td>lemonchiffon</td>\n",
            "      <td>#FFFACD</td>\n",
            "      <td>rgb(255,250,205)</td>\n",
            "   </tr>\n",
            "   <tr>\n",
            "      <td>13</td>\n",
            "      <td style=\"background:papayawhip;\"> </td>\n",
            "      <td>papayawhip</td>\n",
            "      <td>#FFEFD5</td>\n",
            "      <td>rgb(255,239,213)</td>\n",
            "   </tr>\n",
            "   <tr>\n",
            "      <td>14</td>\n",
            "      <td style=\"background:moccasin;\"> </td>\n",
            "      <td>moccasin</td>\n",
            "      <td>#FFE4B5</td>\n",
            "      <td>rgb(255,228,181)</td>\n",
            "   </tr>\n",
            "   <tr>\n",
            "      <td>15</td>\n",
            "      <td style=\"background:peachpuff;\"> </td>\n",
            "      <td>peachpuff</td>\n",
            "      <td>#FFDAB9</td>\n",
            "      <td>rgb(255,218,185)</td>\n",
            "   </tr>\n",
            "   <tr>\n",
            "      <td>16</td>\n",
            "      <td style=\"background:palegoldenrod;\"> </td>\n",
            "      <td>palegoldenrod</td>\n",
            "      <td>#EEE8AA</td>\n",
            "      <td>rgb(238,232,170)</td>\n",
            "   </tr>\n",
            "   <tr>\n",
            "      <td>17</td>\n",
            "      <td style=\"background:khaki;\"> </td>\n",
            "      <td>khaki</td>\n",
            "      <td>#F0E68C</td>\n",
            "      <td>rgb(240,230,140)</td>\n",
            "   </tr>\n",
            "   <tr>\n",
            "      <td>18</td>\n",
            "      <td style=\"background:darkkhaki;\"> </td>\n",
            "      <td>darkkhaki</td>\n",
            "      <td>#BDB76B</td>\n",
            "      <td>rgb(189,183,107)</td>\n",
            "   </tr>\n",
            "   <tr>\n",
            "      <td>19</td>\n",
            "      <td style=\"background:yellow;\"> </td>\n",
            "      <td>yellow</td>\n",
            "      <td>#FFFF00</td>\n",
            "      <td>rgb(255,255,0)</td>\n",
            "   </tr>\n",
            "   <tr>\n",
            "      <td>20</td>\n",
            "      <td style=\"background:lawngreen;\"> </td>\n",
            "      <td>lawngreen</td>\n",
            "      <td>#7CFC00</td>\n",
            "      <td>rgb(124,252,0)</td>\n",
            "   </tr>\n",
            "   <tr>\n",
            "      <td>21</td>\n",
            "      <td style=\"background:chartreuse;\"> </td>\n",
            "      <td>chartreuse</td>\n",
            "      <td>#7FFF00</td>\n",
            "      <td>rgb(127,255,0)</td>\n",
            "   </tr>\n",
            "   <tr>\n",
            "      <td>22</td>\n",
            "      <td style=\"background:limegreen;\"> </td>\n",
            "      <td>limegreen</td>\n",
            "      <td>#32CD32</td>\n",
            "      <td>rgb(50,205,50)</td>\n",
            "   </tr>\n",
            "   <tr>\n",
            "      <td>23</td>\n",
            "      <td style=\"background:lime;\"> </td>\n",
            "      <td>lime</td>\n",
            "      <td>#00FF00</td>\n",
            "      <td>rgb(0.255.0)</td>\n",
            "   </tr>\n",
            "   <tr>\n",
            "      <td>24</td>\n",
            "      <td style=\"background:forestgreen;\"> </td>\n",
            "      <td>forestgreen</td>\n",
            "      <td>#228B22</td>\n",
            "      <td>rgb(34,139,34)</td>\n",
            "   </tr>\n",
            "   <tr>\n",
            "      <td>25</td>\n",
            "      <td style=\"background:green;\"> </td>\n",
            "      <td>green</td>\n",
            "      <td>#008000</td>\n",
            "      <td>rgb(0,128,0)</td>\n",
            "   </tr>\n",
            "   <tr>\n",
            "      <td>26</td>\n",
            "      <td style=\"background:powderblue;\"> </td>\n",
            "      <td>powderblue</td>\n",
            "      <td>#B0E0E6</td>\n",
            "      <td>rgb(176,224,230)</td>\n",
            "   </tr>\n",
            "   <tr>\n",
            "      <td>27</td>\n",
            "      <td style=\"background:lightblue;\"> </td>\n",
            "      <td>lightblue</td>\n",
            "      <td>#ADD8E6</td>\n",
            "      <td>rgb(173,216,230)</td>\n",
            "   </tr>\n",
            "   <tr>\n",
            "      <td>28</td>\n",
            "      <td style=\"background:lightskyblue;\"> </td>\n",
            "      <td>lightskyblue</td>\n",
            "      <td>#87CEFA</td>\n",
            "      <td>rgb(135,206,250)</td>\n",
            "   </tr>\n",
            "   <tr>\n",
            "      <td>29</td>\n",
            "      <td style=\"background:skyblue;\"> </td>\n",
            "      <td>skyblue</td>\n",
            "      <td>#87CEEB</td>\n",
            "      <td>rgb(135,206,235)</td>\n",
            "   </tr>\n",
            "   <tr>\n",
            "      <td>30</td>\n",
            "      <td style=\"background:deepskyblue;\"> </td>\n",
            "      <td>deepskyblue</td>\n",
            "      <td>#00BFFF</td>\n",
            "      <td>rgb(0,191,255)</td>\n",
            "   </tr>\n",
            "   <tr>\n",
            "      <td>31</td>\n",
            "      <td style=\"background:lightsteelblue;\"> </td>\n",
            "      <td>lightsteelblue</td>\n",
            "      <td>#B0C4DE</td>\n",
            "      <td>rgb(176,196,222)</td>\n",
            "   </tr>\n",
            "   <tr>\n",
            "      <td>32</td>\n",
            "      <td style=\"background:dodgerblue;\"> </td>\n",
            "      <td>dodgerblue</td>\n",
            "      <td>#1E90FF</td>\n",
            "      <td>rgb(30,144,255)</td>\n",
            "   </tr>\n",
            "</tbody></table>\n"
          ]
        }
      ]
    },
    {
      "cell_type": "code",
      "source": [
        "for row in table.find_all('tr'):\n",
        "      cols = row.find_all('td')\n",
        "      color_name = cols[2].string\n",
        "      color_code = cols[3].text\n",
        "      print(\"{}--->{}\".format(color_name, color_code))"
      ],
      "metadata": {
        "colab": {
          "base_uri": "https://localhost:8080/"
        },
        "id": "B8ob9fpE29g9",
        "outputId": "3d5da3f7-7a6f-43ff-8b0f-2481c599259a"
      },
      "execution_count": 59,
      "outputs": [
        {
          "output_type": "stream",
          "name": "stdout",
          "text": [
            "Color Name--->Hex Code#RRGGBB\n",
            "lightsalmon--->#FFA07A\n",
            "salmon--->#FA8072\n",
            "darksalmon--->#E9967A\n",
            "lightcoral--->#F08080\n",
            "coral--->#FF7F50\n",
            "tomato--->#FF6347\n",
            "orangered--->#FF4500\n",
            "gold--->#FFD700\n",
            "orange--->#FFA500\n",
            "darkorange--->#FF8C00\n",
            "lightyellow--->#FFFFE0\n",
            "lemonchiffon--->#FFFACD\n",
            "papayawhip--->#FFEFD5\n",
            "moccasin--->#FFE4B5\n",
            "peachpuff--->#FFDAB9\n",
            "palegoldenrod--->#EEE8AA\n",
            "khaki--->#F0E68C\n",
            "darkkhaki--->#BDB76B\n",
            "yellow--->#FFFF00\n",
            "lawngreen--->#7CFC00\n",
            "chartreuse--->#7FFF00\n",
            "limegreen--->#32CD32\n",
            "lime--->#00FF00\n",
            "forestgreen--->#228B22\n",
            "green--->#008000\n",
            "powderblue--->#B0E0E6\n",
            "lightblue--->#ADD8E6\n",
            "lightskyblue--->#87CEFA\n",
            "skyblue--->#87CEEB\n",
            "deepskyblue--->#00BFFF\n",
            "lightsteelblue--->#B0C4DE\n",
            "dodgerblue--->#1E90FF\n"
          ]
        }
      ]
    },
    {
      "cell_type": "code",
      "source": [
        "!pip install tabulate"
      ],
      "metadata": {
        "colab": {
          "base_uri": "https://localhost:8080/"
        },
        "id": "vE9LlfLp3lg_",
        "outputId": "57a7eda5-a456-494e-dbee-3a2c0c34a6d8"
      },
      "execution_count": null,
      "outputs": [
        {
          "output_type": "stream",
          "name": "stdout",
          "text": [
            "Requirement already satisfied: tabulate in /usr/local/lib/python3.10/dist-packages (0.9.0)\n"
          ]
        }
      ]
    },
    {
      "cell_type": "code",
      "source": [
        "from tabulate import tabulate\n",
        "\n",
        "# Initialize a list to store rows\n",
        "table_data = []\n",
        "\n",
        "# Example loop to collect data\n",
        "for row in table.find_all('tr'):\n",
        "    cols = row.find_all('td')\n",
        "    if len(cols) >= 4:  # Ensure there are enough columns\n",
        "        color_name = cols[2].string.strip() if cols[2].string else \"\"\n",
        "        color_code = cols[3].text.strip()\n",
        "        table_data.append([color_name, color_code])  # Append data as a row\n",
        "\n",
        "# Print the data in tabular format\n",
        "headers = [\"Color Name\", \"Color Code\"]  # Define headers\n",
        "print(tabulate(table_data, headers=headers, tablefmt=\"grid\"))\n"
      ],
      "metadata": {
        "colab": {
          "base_uri": "https://localhost:8080/"
        },
        "id": "5RZyjEjB3n2C",
        "outputId": "6f6ac0a2-00e1-4eb4-f9dc-bce6dd0ecc9c"
      },
      "execution_count": 60,
      "outputs": [
        {
          "output_type": "stream",
          "name": "stdout",
          "text": [
            "+----------------+-----------------+\n",
            "| Color Name     | Color Code      |\n",
            "+================+=================+\n",
            "| Color Name     | Hex Code#RRGGBB |\n",
            "+----------------+-----------------+\n",
            "| lightsalmon    | #FFA07A         |\n",
            "+----------------+-----------------+\n",
            "| salmon         | #FA8072         |\n",
            "+----------------+-----------------+\n",
            "| darksalmon     | #E9967A         |\n",
            "+----------------+-----------------+\n",
            "| lightcoral     | #F08080         |\n",
            "+----------------+-----------------+\n",
            "| coral          | #FF7F50         |\n",
            "+----------------+-----------------+\n",
            "| tomato         | #FF6347         |\n",
            "+----------------+-----------------+\n",
            "| orangered      | #FF4500         |\n",
            "+----------------+-----------------+\n",
            "| gold           | #FFD700         |\n",
            "+----------------+-----------------+\n",
            "| orange         | #FFA500         |\n",
            "+----------------+-----------------+\n",
            "| darkorange     | #FF8C00         |\n",
            "+----------------+-----------------+\n",
            "| lightyellow    | #FFFFE0         |\n",
            "+----------------+-----------------+\n",
            "| lemonchiffon   | #FFFACD         |\n",
            "+----------------+-----------------+\n",
            "| papayawhip     | #FFEFD5         |\n",
            "+----------------+-----------------+\n",
            "| moccasin       | #FFE4B5         |\n",
            "+----------------+-----------------+\n",
            "| peachpuff      | #FFDAB9         |\n",
            "+----------------+-----------------+\n",
            "| palegoldenrod  | #EEE8AA         |\n",
            "+----------------+-----------------+\n",
            "| khaki          | #F0E68C         |\n",
            "+----------------+-----------------+\n",
            "| darkkhaki      | #BDB76B         |\n",
            "+----------------+-----------------+\n",
            "| yellow         | #FFFF00         |\n",
            "+----------------+-----------------+\n",
            "| lawngreen      | #7CFC00         |\n",
            "+----------------+-----------------+\n",
            "| chartreuse     | #7FFF00         |\n",
            "+----------------+-----------------+\n",
            "| limegreen      | #32CD32         |\n",
            "+----------------+-----------------+\n",
            "| lime           | #00FF00         |\n",
            "+----------------+-----------------+\n",
            "| forestgreen    | #228B22         |\n",
            "+----------------+-----------------+\n",
            "| green          | #008000         |\n",
            "+----------------+-----------------+\n",
            "| powderblue     | #B0E0E6         |\n",
            "+----------------+-----------------+\n",
            "| lightblue      | #ADD8E6         |\n",
            "+----------------+-----------------+\n",
            "| lightskyblue   | #87CEFA         |\n",
            "+----------------+-----------------+\n",
            "| skyblue        | #87CEEB         |\n",
            "+----------------+-----------------+\n",
            "| deepskyblue    | #00BFFF         |\n",
            "+----------------+-----------------+\n",
            "| lightsteelblue | #B0C4DE         |\n",
            "+----------------+-----------------+\n",
            "| dodgerblue     | #1E90FF         |\n",
            "+----------------+-----------------+\n"
          ]
        }
      ]
    },
    {
      "cell_type": "markdown",
      "source": [
        "## Scaping tables from a web page using pandas"
      ],
      "metadata": {
        "id": "I7oR9V-U4XLE"
      }
    },
    {
      "cell_type": "code",
      "source": [
        "# The below url contains an html table with data about colors and color codes.\n",
        "url = \"https://cf-courses-data.s3.us.cloud-object-storage.appdomain.cloud/IBM-DA0321EN-SkillsNetwork/labs/datasets/HTMLColorCodes.html\""
      ],
      "metadata": {
        "id": "V8UxUK_b4WHz"
      },
      "execution_count": 61,
      "outputs": []
    },
    {
      "cell_type": "code",
      "source": [
        "import pandas as pd\n",
        "tables = pd.read_html(url)\n",
        "print(tables)"
      ],
      "metadata": {
        "colab": {
          "base_uri": "https://localhost:8080/"
        },
        "id": "CCO_IKM53tsA",
        "outputId": "6b62603a-d75d-4ac2-8f95-4a74541c3a59"
      },
      "execution_count": 62,
      "outputs": [
        {
          "output_type": "stream",
          "name": "stdout",
          "text": [
            "[         0      1               2                 3                     4\n",
            "0   Number  Color      Color Name  Hex Code #RRGGBB  Decimal Code (R,G,B)\n",
            "1        1    NaN     lightsalmon           #FFA07A      rgb(255,160,122)\n",
            "2        2    NaN          salmon           #FA8072      rgb(250,128,114)\n",
            "3        3    NaN      darksalmon           #E9967A      rgb(233,150,122)\n",
            "4        4    NaN      lightcoral           #F08080      rgb(240,128,128)\n",
            "5        5    NaN           coral           #FF7F50       rgb(255,127,80)\n",
            "6        6    NaN          tomato           #FF6347        rgb(255,99,71)\n",
            "7        7    NaN       orangered           #FF4500         rgb(255,69,0)\n",
            "8        8    NaN            gold           #FFD700        rgb(255,215,0)\n",
            "9        9    NaN          orange           #FFA500        rgb(255,165,0)\n",
            "10      10    NaN      darkorange           #FF8C00        rgb(255,140,0)\n",
            "11      11    NaN     lightyellow           #FFFFE0      rgb(255,255,224)\n",
            "12      12    NaN    lemonchiffon           #FFFACD      rgb(255,250,205)\n",
            "13      13    NaN      papayawhip           #FFEFD5      rgb(255,239,213)\n",
            "14      14    NaN        moccasin           #FFE4B5      rgb(255,228,181)\n",
            "15      15    NaN       peachpuff           #FFDAB9      rgb(255,218,185)\n",
            "16      16    NaN   palegoldenrod           #EEE8AA      rgb(238,232,170)\n",
            "17      17    NaN           khaki           #F0E68C      rgb(240,230,140)\n",
            "18      18    NaN       darkkhaki           #BDB76B      rgb(189,183,107)\n",
            "19      19    NaN          yellow           #FFFF00        rgb(255,255,0)\n",
            "20      20    NaN       lawngreen           #7CFC00        rgb(124,252,0)\n",
            "21      21    NaN      chartreuse           #7FFF00        rgb(127,255,0)\n",
            "22      22    NaN       limegreen           #32CD32        rgb(50,205,50)\n",
            "23      23    NaN            lime           #00FF00          rgb(0.255.0)\n",
            "24      24    NaN     forestgreen           #228B22        rgb(34,139,34)\n",
            "25      25    NaN           green           #008000          rgb(0,128,0)\n",
            "26      26    NaN      powderblue           #B0E0E6      rgb(176,224,230)\n",
            "27      27    NaN       lightblue           #ADD8E6      rgb(173,216,230)\n",
            "28      28    NaN    lightskyblue           #87CEFA      rgb(135,206,250)\n",
            "29      29    NaN         skyblue           #87CEEB      rgb(135,206,235)\n",
            "30      30    NaN     deepskyblue           #00BFFF        rgb(0,191,255)\n",
            "31      31    NaN  lightsteelblue           #B0C4DE      rgb(176,196,222)\n",
            "32      32    NaN      dodgerblue           #1E90FF       rgb(30,144,255)]\n"
          ]
        }
      ]
    },
    {
      "cell_type": "code",
      "source": [
        "tables[0]"
      ],
      "metadata": {
        "colab": {
          "base_uri": "https://localhost:8080/",
          "height": 1000
        },
        "id": "b1zzO8U24ug5",
        "outputId": "90520f8a-86fa-4ac6-d124-2363ce8781e1"
      },
      "execution_count": 63,
      "outputs": [
        {
          "output_type": "execute_result",
          "data": {
            "text/plain": [
              "         0      1               2                 3                     4\n",
              "0   Number  Color      Color Name  Hex Code #RRGGBB  Decimal Code (R,G,B)\n",
              "1        1    NaN     lightsalmon           #FFA07A      rgb(255,160,122)\n",
              "2        2    NaN          salmon           #FA8072      rgb(250,128,114)\n",
              "3        3    NaN      darksalmon           #E9967A      rgb(233,150,122)\n",
              "4        4    NaN      lightcoral           #F08080      rgb(240,128,128)\n",
              "5        5    NaN           coral           #FF7F50       rgb(255,127,80)\n",
              "6        6    NaN          tomato           #FF6347        rgb(255,99,71)\n",
              "7        7    NaN       orangered           #FF4500         rgb(255,69,0)\n",
              "8        8    NaN            gold           #FFD700        rgb(255,215,0)\n",
              "9        9    NaN          orange           #FFA500        rgb(255,165,0)\n",
              "10      10    NaN      darkorange           #FF8C00        rgb(255,140,0)\n",
              "11      11    NaN     lightyellow           #FFFFE0      rgb(255,255,224)\n",
              "12      12    NaN    lemonchiffon           #FFFACD      rgb(255,250,205)\n",
              "13      13    NaN      papayawhip           #FFEFD5      rgb(255,239,213)\n",
              "14      14    NaN        moccasin           #FFE4B5      rgb(255,228,181)\n",
              "15      15    NaN       peachpuff           #FFDAB9      rgb(255,218,185)\n",
              "16      16    NaN   palegoldenrod           #EEE8AA      rgb(238,232,170)\n",
              "17      17    NaN           khaki           #F0E68C      rgb(240,230,140)\n",
              "18      18    NaN       darkkhaki           #BDB76B      rgb(189,183,107)\n",
              "19      19    NaN          yellow           #FFFF00        rgb(255,255,0)\n",
              "20      20    NaN       lawngreen           #7CFC00        rgb(124,252,0)\n",
              "21      21    NaN      chartreuse           #7FFF00        rgb(127,255,0)\n",
              "22      22    NaN       limegreen           #32CD32        rgb(50,205,50)\n",
              "23      23    NaN            lime           #00FF00          rgb(0.255.0)\n",
              "24      24    NaN     forestgreen           #228B22        rgb(34,139,34)\n",
              "25      25    NaN           green           #008000          rgb(0,128,0)\n",
              "26      26    NaN      powderblue           #B0E0E6      rgb(176,224,230)\n",
              "27      27    NaN       lightblue           #ADD8E6      rgb(173,216,230)\n",
              "28      28    NaN    lightskyblue           #87CEFA      rgb(135,206,250)\n",
              "29      29    NaN         skyblue           #87CEEB      rgb(135,206,235)\n",
              "30      30    NaN     deepskyblue           #00BFFF        rgb(0,191,255)\n",
              "31      31    NaN  lightsteelblue           #B0C4DE      rgb(176,196,222)\n",
              "32      32    NaN      dodgerblue           #1E90FF       rgb(30,144,255)"
            ],
            "text/html": [
              "\n",
              "  <div id=\"df-a3e0b78c-480f-4e7c-9ce7-75935eea17dc\" class=\"colab-df-container\">\n",
              "    <div>\n",
              "<style scoped>\n",
              "    .dataframe tbody tr th:only-of-type {\n",
              "        vertical-align: middle;\n",
              "    }\n",
              "\n",
              "    .dataframe tbody tr th {\n",
              "        vertical-align: top;\n",
              "    }\n",
              "\n",
              "    .dataframe thead th {\n",
              "        text-align: right;\n",
              "    }\n",
              "</style>\n",
              "<table border=\"1\" class=\"dataframe\">\n",
              "  <thead>\n",
              "    <tr style=\"text-align: right;\">\n",
              "      <th></th>\n",
              "      <th>0</th>\n",
              "      <th>1</th>\n",
              "      <th>2</th>\n",
              "      <th>3</th>\n",
              "      <th>4</th>\n",
              "    </tr>\n",
              "  </thead>\n",
              "  <tbody>\n",
              "    <tr>\n",
              "      <th>0</th>\n",
              "      <td>Number</td>\n",
              "      <td>Color</td>\n",
              "      <td>Color Name</td>\n",
              "      <td>Hex Code #RRGGBB</td>\n",
              "      <td>Decimal Code (R,G,B)</td>\n",
              "    </tr>\n",
              "    <tr>\n",
              "      <th>1</th>\n",
              "      <td>1</td>\n",
              "      <td>NaN</td>\n",
              "      <td>lightsalmon</td>\n",
              "      <td>#FFA07A</td>\n",
              "      <td>rgb(255,160,122)</td>\n",
              "    </tr>\n",
              "    <tr>\n",
              "      <th>2</th>\n",
              "      <td>2</td>\n",
              "      <td>NaN</td>\n",
              "      <td>salmon</td>\n",
              "      <td>#FA8072</td>\n",
              "      <td>rgb(250,128,114)</td>\n",
              "    </tr>\n",
              "    <tr>\n",
              "      <th>3</th>\n",
              "      <td>3</td>\n",
              "      <td>NaN</td>\n",
              "      <td>darksalmon</td>\n",
              "      <td>#E9967A</td>\n",
              "      <td>rgb(233,150,122)</td>\n",
              "    </tr>\n",
              "    <tr>\n",
              "      <th>4</th>\n",
              "      <td>4</td>\n",
              "      <td>NaN</td>\n",
              "      <td>lightcoral</td>\n",
              "      <td>#F08080</td>\n",
              "      <td>rgb(240,128,128)</td>\n",
              "    </tr>\n",
              "    <tr>\n",
              "      <th>5</th>\n",
              "      <td>5</td>\n",
              "      <td>NaN</td>\n",
              "      <td>coral</td>\n",
              "      <td>#FF7F50</td>\n",
              "      <td>rgb(255,127,80)</td>\n",
              "    </tr>\n",
              "    <tr>\n",
              "      <th>6</th>\n",
              "      <td>6</td>\n",
              "      <td>NaN</td>\n",
              "      <td>tomato</td>\n",
              "      <td>#FF6347</td>\n",
              "      <td>rgb(255,99,71)</td>\n",
              "    </tr>\n",
              "    <tr>\n",
              "      <th>7</th>\n",
              "      <td>7</td>\n",
              "      <td>NaN</td>\n",
              "      <td>orangered</td>\n",
              "      <td>#FF4500</td>\n",
              "      <td>rgb(255,69,0)</td>\n",
              "    </tr>\n",
              "    <tr>\n",
              "      <th>8</th>\n",
              "      <td>8</td>\n",
              "      <td>NaN</td>\n",
              "      <td>gold</td>\n",
              "      <td>#FFD700</td>\n",
              "      <td>rgb(255,215,0)</td>\n",
              "    </tr>\n",
              "    <tr>\n",
              "      <th>9</th>\n",
              "      <td>9</td>\n",
              "      <td>NaN</td>\n",
              "      <td>orange</td>\n",
              "      <td>#FFA500</td>\n",
              "      <td>rgb(255,165,0)</td>\n",
              "    </tr>\n",
              "    <tr>\n",
              "      <th>10</th>\n",
              "      <td>10</td>\n",
              "      <td>NaN</td>\n",
              "      <td>darkorange</td>\n",
              "      <td>#FF8C00</td>\n",
              "      <td>rgb(255,140,0)</td>\n",
              "    </tr>\n",
              "    <tr>\n",
              "      <th>11</th>\n",
              "      <td>11</td>\n",
              "      <td>NaN</td>\n",
              "      <td>lightyellow</td>\n",
              "      <td>#FFFFE0</td>\n",
              "      <td>rgb(255,255,224)</td>\n",
              "    </tr>\n",
              "    <tr>\n",
              "      <th>12</th>\n",
              "      <td>12</td>\n",
              "      <td>NaN</td>\n",
              "      <td>lemonchiffon</td>\n",
              "      <td>#FFFACD</td>\n",
              "      <td>rgb(255,250,205)</td>\n",
              "    </tr>\n",
              "    <tr>\n",
              "      <th>13</th>\n",
              "      <td>13</td>\n",
              "      <td>NaN</td>\n",
              "      <td>papayawhip</td>\n",
              "      <td>#FFEFD5</td>\n",
              "      <td>rgb(255,239,213)</td>\n",
              "    </tr>\n",
              "    <tr>\n",
              "      <th>14</th>\n",
              "      <td>14</td>\n",
              "      <td>NaN</td>\n",
              "      <td>moccasin</td>\n",
              "      <td>#FFE4B5</td>\n",
              "      <td>rgb(255,228,181)</td>\n",
              "    </tr>\n",
              "    <tr>\n",
              "      <th>15</th>\n",
              "      <td>15</td>\n",
              "      <td>NaN</td>\n",
              "      <td>peachpuff</td>\n",
              "      <td>#FFDAB9</td>\n",
              "      <td>rgb(255,218,185)</td>\n",
              "    </tr>\n",
              "    <tr>\n",
              "      <th>16</th>\n",
              "      <td>16</td>\n",
              "      <td>NaN</td>\n",
              "      <td>palegoldenrod</td>\n",
              "      <td>#EEE8AA</td>\n",
              "      <td>rgb(238,232,170)</td>\n",
              "    </tr>\n",
              "    <tr>\n",
              "      <th>17</th>\n",
              "      <td>17</td>\n",
              "      <td>NaN</td>\n",
              "      <td>khaki</td>\n",
              "      <td>#F0E68C</td>\n",
              "      <td>rgb(240,230,140)</td>\n",
              "    </tr>\n",
              "    <tr>\n",
              "      <th>18</th>\n",
              "      <td>18</td>\n",
              "      <td>NaN</td>\n",
              "      <td>darkkhaki</td>\n",
              "      <td>#BDB76B</td>\n",
              "      <td>rgb(189,183,107)</td>\n",
              "    </tr>\n",
              "    <tr>\n",
              "      <th>19</th>\n",
              "      <td>19</td>\n",
              "      <td>NaN</td>\n",
              "      <td>yellow</td>\n",
              "      <td>#FFFF00</td>\n",
              "      <td>rgb(255,255,0)</td>\n",
              "    </tr>\n",
              "    <tr>\n",
              "      <th>20</th>\n",
              "      <td>20</td>\n",
              "      <td>NaN</td>\n",
              "      <td>lawngreen</td>\n",
              "      <td>#7CFC00</td>\n",
              "      <td>rgb(124,252,0)</td>\n",
              "    </tr>\n",
              "    <tr>\n",
              "      <th>21</th>\n",
              "      <td>21</td>\n",
              "      <td>NaN</td>\n",
              "      <td>chartreuse</td>\n",
              "      <td>#7FFF00</td>\n",
              "      <td>rgb(127,255,0)</td>\n",
              "    </tr>\n",
              "    <tr>\n",
              "      <th>22</th>\n",
              "      <td>22</td>\n",
              "      <td>NaN</td>\n",
              "      <td>limegreen</td>\n",
              "      <td>#32CD32</td>\n",
              "      <td>rgb(50,205,50)</td>\n",
              "    </tr>\n",
              "    <tr>\n",
              "      <th>23</th>\n",
              "      <td>23</td>\n",
              "      <td>NaN</td>\n",
              "      <td>lime</td>\n",
              "      <td>#00FF00</td>\n",
              "      <td>rgb(0.255.0)</td>\n",
              "    </tr>\n",
              "    <tr>\n",
              "      <th>24</th>\n",
              "      <td>24</td>\n",
              "      <td>NaN</td>\n",
              "      <td>forestgreen</td>\n",
              "      <td>#228B22</td>\n",
              "      <td>rgb(34,139,34)</td>\n",
              "    </tr>\n",
              "    <tr>\n",
              "      <th>25</th>\n",
              "      <td>25</td>\n",
              "      <td>NaN</td>\n",
              "      <td>green</td>\n",
              "      <td>#008000</td>\n",
              "      <td>rgb(0,128,0)</td>\n",
              "    </tr>\n",
              "    <tr>\n",
              "      <th>26</th>\n",
              "      <td>26</td>\n",
              "      <td>NaN</td>\n",
              "      <td>powderblue</td>\n",
              "      <td>#B0E0E6</td>\n",
              "      <td>rgb(176,224,230)</td>\n",
              "    </tr>\n",
              "    <tr>\n",
              "      <th>27</th>\n",
              "      <td>27</td>\n",
              "      <td>NaN</td>\n",
              "      <td>lightblue</td>\n",
              "      <td>#ADD8E6</td>\n",
              "      <td>rgb(173,216,230)</td>\n",
              "    </tr>\n",
              "    <tr>\n",
              "      <th>28</th>\n",
              "      <td>28</td>\n",
              "      <td>NaN</td>\n",
              "      <td>lightskyblue</td>\n",
              "      <td>#87CEFA</td>\n",
              "      <td>rgb(135,206,250)</td>\n",
              "    </tr>\n",
              "    <tr>\n",
              "      <th>29</th>\n",
              "      <td>29</td>\n",
              "      <td>NaN</td>\n",
              "      <td>skyblue</td>\n",
              "      <td>#87CEEB</td>\n",
              "      <td>rgb(135,206,235)</td>\n",
              "    </tr>\n",
              "    <tr>\n",
              "      <th>30</th>\n",
              "      <td>30</td>\n",
              "      <td>NaN</td>\n",
              "      <td>deepskyblue</td>\n",
              "      <td>#00BFFF</td>\n",
              "      <td>rgb(0,191,255)</td>\n",
              "    </tr>\n",
              "    <tr>\n",
              "      <th>31</th>\n",
              "      <td>31</td>\n",
              "      <td>NaN</td>\n",
              "      <td>lightsteelblue</td>\n",
              "      <td>#B0C4DE</td>\n",
              "      <td>rgb(176,196,222)</td>\n",
              "    </tr>\n",
              "    <tr>\n",
              "      <th>32</th>\n",
              "      <td>32</td>\n",
              "      <td>NaN</td>\n",
              "      <td>dodgerblue</td>\n",
              "      <td>#1E90FF</td>\n",
              "      <td>rgb(30,144,255)</td>\n",
              "    </tr>\n",
              "  </tbody>\n",
              "</table>\n",
              "</div>\n",
              "    <div class=\"colab-df-buttons\">\n",
              "\n",
              "  <div class=\"colab-df-container\">\n",
              "    <button class=\"colab-df-convert\" onclick=\"convertToInteractive('df-a3e0b78c-480f-4e7c-9ce7-75935eea17dc')\"\n",
              "            title=\"Convert this dataframe to an interactive table.\"\n",
              "            style=\"display:none;\">\n",
              "\n",
              "  <svg xmlns=\"http://www.w3.org/2000/svg\" height=\"24px\" viewBox=\"0 -960 960 960\">\n",
              "    <path d=\"M120-120v-720h720v720H120Zm60-500h600v-160H180v160Zm220 220h160v-160H400v160Zm0 220h160v-160H400v160ZM180-400h160v-160H180v160Zm440 0h160v-160H620v160ZM180-180h160v-160H180v160Zm440 0h160v-160H620v160Z\"/>\n",
              "  </svg>\n",
              "    </button>\n",
              "\n",
              "  <style>\n",
              "    .colab-df-container {\n",
              "      display:flex;\n",
              "      gap: 12px;\n",
              "    }\n",
              "\n",
              "    .colab-df-convert {\n",
              "      background-color: #E8F0FE;\n",
              "      border: none;\n",
              "      border-radius: 50%;\n",
              "      cursor: pointer;\n",
              "      display: none;\n",
              "      fill: #1967D2;\n",
              "      height: 32px;\n",
              "      padding: 0 0 0 0;\n",
              "      width: 32px;\n",
              "    }\n",
              "\n",
              "    .colab-df-convert:hover {\n",
              "      background-color: #E2EBFA;\n",
              "      box-shadow: 0px 1px 2px rgba(60, 64, 67, 0.3), 0px 1px 3px 1px rgba(60, 64, 67, 0.15);\n",
              "      fill: #174EA6;\n",
              "    }\n",
              "\n",
              "    .colab-df-buttons div {\n",
              "      margin-bottom: 4px;\n",
              "    }\n",
              "\n",
              "    [theme=dark] .colab-df-convert {\n",
              "      background-color: #3B4455;\n",
              "      fill: #D2E3FC;\n",
              "    }\n",
              "\n",
              "    [theme=dark] .colab-df-convert:hover {\n",
              "      background-color: #434B5C;\n",
              "      box-shadow: 0px 1px 3px 1px rgba(0, 0, 0, 0.15);\n",
              "      filter: drop-shadow(0px 1px 2px rgba(0, 0, 0, 0.3));\n",
              "      fill: #FFFFFF;\n",
              "    }\n",
              "  </style>\n",
              "\n",
              "    <script>\n",
              "      const buttonEl =\n",
              "        document.querySelector('#df-a3e0b78c-480f-4e7c-9ce7-75935eea17dc button.colab-df-convert');\n",
              "      buttonEl.style.display =\n",
              "        google.colab.kernel.accessAllowed ? 'block' : 'none';\n",
              "\n",
              "      async function convertToInteractive(key) {\n",
              "        const element = document.querySelector('#df-a3e0b78c-480f-4e7c-9ce7-75935eea17dc');\n",
              "        const dataTable =\n",
              "          await google.colab.kernel.invokeFunction('convertToInteractive',\n",
              "                                                    [key], {});\n",
              "        if (!dataTable) return;\n",
              "\n",
              "        const docLinkHtml = 'Like what you see? Visit the ' +\n",
              "          '<a target=\"_blank\" href=https://colab.research.google.com/notebooks/data_table.ipynb>data table notebook</a>'\n",
              "          + ' to learn more about interactive tables.';\n",
              "        element.innerHTML = '';\n",
              "        dataTable['output_type'] = 'display_data';\n",
              "        await google.colab.output.renderOutput(dataTable, element);\n",
              "        const docLink = document.createElement('div');\n",
              "        docLink.innerHTML = docLinkHtml;\n",
              "        element.appendChild(docLink);\n",
              "      }\n",
              "    </script>\n",
              "  </div>\n",
              "\n",
              "\n",
              "<div id=\"df-d06d4fc7-9c56-403c-96a6-2b6eca388aca\">\n",
              "  <button class=\"colab-df-quickchart\" onclick=\"quickchart('df-d06d4fc7-9c56-403c-96a6-2b6eca388aca')\"\n",
              "            title=\"Suggest charts\"\n",
              "            style=\"display:none;\">\n",
              "\n",
              "<svg xmlns=\"http://www.w3.org/2000/svg\" height=\"24px\"viewBox=\"0 0 24 24\"\n",
              "     width=\"24px\">\n",
              "    <g>\n",
              "        <path d=\"M19 3H5c-1.1 0-2 .9-2 2v14c0 1.1.9 2 2 2h14c1.1 0 2-.9 2-2V5c0-1.1-.9-2-2-2zM9 17H7v-7h2v7zm4 0h-2V7h2v10zm4 0h-2v-4h2v4z\"/>\n",
              "    </g>\n",
              "</svg>\n",
              "  </button>\n",
              "\n",
              "<style>\n",
              "  .colab-df-quickchart {\n",
              "      --bg-color: #E8F0FE;\n",
              "      --fill-color: #1967D2;\n",
              "      --hover-bg-color: #E2EBFA;\n",
              "      --hover-fill-color: #174EA6;\n",
              "      --disabled-fill-color: #AAA;\n",
              "      --disabled-bg-color: #DDD;\n",
              "  }\n",
              "\n",
              "  [theme=dark] .colab-df-quickchart {\n",
              "      --bg-color: #3B4455;\n",
              "      --fill-color: #D2E3FC;\n",
              "      --hover-bg-color: #434B5C;\n",
              "      --hover-fill-color: #FFFFFF;\n",
              "      --disabled-bg-color: #3B4455;\n",
              "      --disabled-fill-color: #666;\n",
              "  }\n",
              "\n",
              "  .colab-df-quickchart {\n",
              "    background-color: var(--bg-color);\n",
              "    border: none;\n",
              "    border-radius: 50%;\n",
              "    cursor: pointer;\n",
              "    display: none;\n",
              "    fill: var(--fill-color);\n",
              "    height: 32px;\n",
              "    padding: 0;\n",
              "    width: 32px;\n",
              "  }\n",
              "\n",
              "  .colab-df-quickchart:hover {\n",
              "    background-color: var(--hover-bg-color);\n",
              "    box-shadow: 0 1px 2px rgba(60, 64, 67, 0.3), 0 1px 3px 1px rgba(60, 64, 67, 0.15);\n",
              "    fill: var(--button-hover-fill-color);\n",
              "  }\n",
              "\n",
              "  .colab-df-quickchart-complete:disabled,\n",
              "  .colab-df-quickchart-complete:disabled:hover {\n",
              "    background-color: var(--disabled-bg-color);\n",
              "    fill: var(--disabled-fill-color);\n",
              "    box-shadow: none;\n",
              "  }\n",
              "\n",
              "  .colab-df-spinner {\n",
              "    border: 2px solid var(--fill-color);\n",
              "    border-color: transparent;\n",
              "    border-bottom-color: var(--fill-color);\n",
              "    animation:\n",
              "      spin 1s steps(1) infinite;\n",
              "  }\n",
              "\n",
              "  @keyframes spin {\n",
              "    0% {\n",
              "      border-color: transparent;\n",
              "      border-bottom-color: var(--fill-color);\n",
              "      border-left-color: var(--fill-color);\n",
              "    }\n",
              "    20% {\n",
              "      border-color: transparent;\n",
              "      border-left-color: var(--fill-color);\n",
              "      border-top-color: var(--fill-color);\n",
              "    }\n",
              "    30% {\n",
              "      border-color: transparent;\n",
              "      border-left-color: var(--fill-color);\n",
              "      border-top-color: var(--fill-color);\n",
              "      border-right-color: var(--fill-color);\n",
              "    }\n",
              "    40% {\n",
              "      border-color: transparent;\n",
              "      border-right-color: var(--fill-color);\n",
              "      border-top-color: var(--fill-color);\n",
              "    }\n",
              "    60% {\n",
              "      border-color: transparent;\n",
              "      border-right-color: var(--fill-color);\n",
              "    }\n",
              "    80% {\n",
              "      border-color: transparent;\n",
              "      border-right-color: var(--fill-color);\n",
              "      border-bottom-color: var(--fill-color);\n",
              "    }\n",
              "    90% {\n",
              "      border-color: transparent;\n",
              "      border-bottom-color: var(--fill-color);\n",
              "    }\n",
              "  }\n",
              "</style>\n",
              "\n",
              "  <script>\n",
              "    async function quickchart(key) {\n",
              "      const quickchartButtonEl =\n",
              "        document.querySelector('#' + key + ' button');\n",
              "      quickchartButtonEl.disabled = true;  // To prevent multiple clicks.\n",
              "      quickchartButtonEl.classList.add('colab-df-spinner');\n",
              "      try {\n",
              "        const charts = await google.colab.kernel.invokeFunction(\n",
              "            'suggestCharts', [key], {});\n",
              "      } catch (error) {\n",
              "        console.error('Error during call to suggestCharts:', error);\n",
              "      }\n",
              "      quickchartButtonEl.classList.remove('colab-df-spinner');\n",
              "      quickchartButtonEl.classList.add('colab-df-quickchart-complete');\n",
              "    }\n",
              "    (() => {\n",
              "      let quickchartButtonEl =\n",
              "        document.querySelector('#df-d06d4fc7-9c56-403c-96a6-2b6eca388aca button');\n",
              "      quickchartButtonEl.style.display =\n",
              "        google.colab.kernel.accessAllowed ? 'block' : 'none';\n",
              "    })();\n",
              "  </script>\n",
              "</div>\n",
              "\n",
              "    </div>\n",
              "  </div>\n"
            ],
            "application/vnd.google.colaboratory.intrinsic+json": {
              "type": "dataframe",
              "summary": "{\n  \"name\": \"tables[0]\",\n  \"rows\": 33,\n  \"fields\": [\n    {\n      \"column\": 0,\n      \"properties\": {\n        \"dtype\": \"string\",\n        \"num_unique_values\": 33,\n        \"samples\": [\n          \"31\",\n          \"15\",\n          \"26\"\n        ],\n        \"semantic_type\": \"\",\n        \"description\": \"\"\n      }\n    },\n    {\n      \"column\": 1,\n      \"properties\": {\n        \"dtype\": \"category\",\n        \"num_unique_values\": 1,\n        \"samples\": [\n          \"Color\"\n        ],\n        \"semantic_type\": \"\",\n        \"description\": \"\"\n      }\n    },\n    {\n      \"column\": 2,\n      \"properties\": {\n        \"dtype\": \"string\",\n        \"num_unique_values\": 33,\n        \"samples\": [\n          \"lightsteelblue\"\n        ],\n        \"semantic_type\": \"\",\n        \"description\": \"\"\n      }\n    },\n    {\n      \"column\": 3,\n      \"properties\": {\n        \"dtype\": \"string\",\n        \"num_unique_values\": 33,\n        \"samples\": [\n          \"#B0C4DE\"\n        ],\n        \"semantic_type\": \"\",\n        \"description\": \"\"\n      }\n    },\n    {\n      \"column\": 4,\n      \"properties\": {\n        \"dtype\": \"string\",\n        \"num_unique_values\": 33,\n        \"samples\": [\n          \"rgb(176,196,222)\"\n        ],\n        \"semantic_type\": \"\",\n        \"description\": \"\"\n      }\n    }\n  ]\n}"
            }
          },
          "metadata": {},
          "execution_count": 63
        }
      ]
    }
  ]
}