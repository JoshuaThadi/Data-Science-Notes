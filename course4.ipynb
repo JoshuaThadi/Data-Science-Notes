{
  "nbformat": 4,
  "nbformat_minor": 0,
  "metadata": {
    "colab": {
      "provenance": [],
      "toc_visible": true,
      "authorship_tag": "ABX9TyNEwvaaa/gsjRXtLikYhT1q",
      "include_colab_link": true
    },
    "kernelspec": {
      "name": "python3",
      "display_name": "Python 3"
    },
    "language_info": {
      "name": "python"
    }
  },
  "cells": [
    {
      "cell_type": "markdown",
      "metadata": {
        "id": "view-in-github",
        "colab_type": "text"
      },
      "source": [
        "<a href=\"https://colab.research.google.com/github/JoshuaThadi/Data-Science-Notes/blob/main/course4.ipynb\" target=\"_parent\"><img src=\"https://colab.research.google.com/assets/colab-badge.svg\" alt=\"Open In Colab\"/></a>"
      ]
    },
    {
      "cell_type": "markdown",
      "source": [
        "# Exception Handling"
      ],
      "metadata": {
        "id": "kWH0oKs4HtRr"
      }
    },
    {
      "cell_type": "code",
      "source": [
        "a = 1\n",
        "try:\n",
        "    b = int(input(\"Please enter a number to divide a : \"))\n",
        "    a = a/b\n",
        "    print(\"Success a=\",a)\n",
        "except:\n",
        "    print(\"There was an error\")"
      ],
      "metadata": {
        "colab": {
          "base_uri": "https://localhost:8080/"
        },
        "id": "xxbJIoM4IA3L",
        "outputId": "6a2030d9-c6f1-4643-9868-994a205f0567"
      },
      "execution_count": null,
      "outputs": [
        {
          "output_type": "stream",
          "name": "stdout",
          "text": [
            "Please enter a number to divide a : fgh\n",
            "There was an error\n"
          ]
        }
      ]
    },
    {
      "cell_type": "markdown",
      "source": [
        "### Try expect specific example"
      ],
      "metadata": {
        "id": "tsbyh_uMEQrM"
      }
    },
    {
      "cell_type": "code",
      "source": [
        "a = 1\n",
        "try :\n",
        "    b = int(input(\"Please enter a number to divide a : \"))\n",
        "    a = a / b\n",
        "    print(\"Success a = \",a)\n",
        "except ZeroDivisionError:\n",
        "    print(\"The number you provided cant divide 1 beacause its 0\")\n",
        "except ValueError:\n",
        "    print(\"You did not provide a number\")\n",
        "except :\n",
        "    print(\"Something went wrong\")"
      ],
      "metadata": {
        "colab": {
          "base_uri": "https://localhost:8080/"
        },
        "id": "CDQCDX2i6RIe",
        "outputId": "3392148a-8ec7-41fb-cf25-2586a7b2b17b"
      },
      "execution_count": null,
      "outputs": [
        {
          "output_type": "stream",
          "name": "stdout",
          "text": [
            "Please enter a number to divide a : 0\n",
            "The number you provided cant divide 1 beacause its 0\n"
          ]
        }
      ]
    },
    {
      "cell_type": "markdown",
      "source": [
        "### Try Except Else and Finally example"
      ],
      "metadata": {
        "id": "64rz-qxXFXn4"
      }
    },
    {
      "cell_type": "code",
      "source": [
        "a = 1\n",
        "try :\n",
        "    b = int(input(\"Please enter a number to divide a : \"))\n",
        "    c = a / b\n",
        "except ZeroDivisionError:\n",
        "    print(\"The number you provided cant divide 1 because its 0\")\n",
        "except ValueError:\n",
        "    print(\"You did not provide a number\")\n",
        "except :\n",
        "    print(\"Something went wrong\")\n",
        "else :\n",
        "    print(f\"Success c = {c}\")\n",
        "finally:\n",
        "    print(\"Processing Completed!\")"
      ],
      "metadata": {
        "colab": {
          "base_uri": "https://localhost:8080/"
        },
        "id": "T4p3HLL7FmVN",
        "outputId": "5f8bf9f2-d220-43b1-e983-eacfbd741739"
      },
      "execution_count": null,
      "outputs": [
        {
          "output_type": "stream",
          "name": "stdout",
          "text": [
            "Please enter a number to divide a : 24\n",
            "Success c = 0.041666666666666664\n",
            "Processing Completed!\n"
          ]
        }
      ]
    }
  ]
}